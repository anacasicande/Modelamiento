{
  "nbformat": 4,
  "nbformat_minor": 0,
  "metadata": {
    "colab": {
      "provenance": [],
      "authorship_tag": "ABX9TyNOmyc2yaG9/Sa6mM980/wK",
      "include_colab_link": true
    },
    "kernelspec": {
      "name": "python3",
      "display_name": "Python 3"
    },
    "language_info": {
      "name": "python"
    }
  },
  "cells": [
    {
      "cell_type": "markdown",
      "metadata": {
        "id": "view-in-github",
        "colab_type": "text"
      },
      "source": [
        "<a href=\"https://colab.research.google.com/github/anacasicande/Modelamiento/blob/main/tarea_2.ipynb\" target=\"_parent\"><img src=\"https://colab.research.google.com/assets/colab-badge.svg\" alt=\"Open In Colab\"/></a>"
      ]
    },
    {
      "cell_type": "code",
      "source": [
        "import sympy as sp\n",
        "import numpy as np\n",
        "\n",
        "\n",
        "P = 9.4573  # Presión en bar\n",
        "T = 350.0   # Temperatura en K\n",
        "R = 0.08314  # Constante de los gases en J/mol·K (convertir después a L·bar/mol·K)\n",
        "\n",
        "# Propiedades críticas del n-butano\n",
        "Tc = 425.2  # Temperatura crítica en K\n",
        "Pc = 37.96  # Presión crítica en bar\n",
        "tr = T / Tc  # Temperatura reducida\n",
        "pr = P / Pc  # Presión reducida\n",
        "Z = sp.Symbol('Z')  # Creo una variable simbolica para poder derivar usando la funcion diff\n",
        "\n",
        "# Parámetros de la ecuación de Redlich-Kwong\n",
        "q = (0.42748 / 0.08664) * (tr**(-3/2))  #  Formula de q que usa los valores\n",
        "b = ((0.08664 * pr )/ tr)\n",
        "\n",
        "# Función para Z_vapor usando Redlich-Kwong\n",
        "def Rk_vapor(Z):  # Defino Rk_vapor como una funcion que recibe de parametros una Z_vapor\n",
        "    return Z - (1 + b - q * b * ((Z - b) / (Z * (Z + b))))  # Retorna la ecuacion de Rk_vapor\n",
        "\n",
        "# Derivada de la función Z_vapor\n",
        "def dRk_vapor(Z_value):  # Defino dRk_vapor como una funcion que recibe de parametros una variable simbolica\n",
        "    derivadaV = sp.diff(Rk_vapor(Z), Z)  # Derivo usando la funcion sp.diff que recibe como parametros la funcion a derivar y una variable simbolica\n",
        "    return derivadaV.subs(Z, Z_value).evalf()  #  Retorna la derivada evaluada en el valor \"Z\"\n",
        "\n",
        "# Función para Z_liquid usando Redlich-Kwong\n",
        "def Rk_liquid(Z):  # Defino Rk_liquid como una funcion que recibe de parametros una Z_liquid\n",
        "    return Z - (b + Z * (Z + b) * ((1 + b - Z) / (q * b)))  # Retorna la ecuacion de Rk_liquid\n",
        "\n",
        "# Derivada de la función Z_liquid\n",
        "def dRk_liquid(Z_value):  # Defino dRk_liquid como una funcion que recibe de parametros una variable simbolica\n",
        "    derivadaL = sp.diff(Rk_liquid(Z), Z)  # Derivo usando la funcion sp.diff que recibe como parametros la funcion a derivar y una variable simbolica\n",
        "    return derivadaL.subs(Z, Z_value).evalf()  #  Retorna la derivada evaluada en el valor \"Z\"\n",
        "\n",
        "# Método de Newton-Raphson\n",
        "def newton_raphson(func, func_prime, Z, tol=1e-10, max_iter=200):\n",
        "    x = Z  # igualo la variable \"Z\" a \"X\" para facilidad en el codigo\n",
        "    for i in range(max_iter):  # realizo un bucle que recorre hasta el numero de iteraciones puestas\n",
        "        fx = func(x)  #  igualo la variable \"fx\" al parametro \"func()\" evaluado en x para facilidad en el codigo\n",
        "        fpx = func_prime(x)  #  igualo la variable \"fpx\" al parametro \"func_prime()\" evaluado en x para facilidad en el codigo\n",
        "\n",
        "        if abs(fpx) < tol:  #  Si en una interacion el valor absoluto de la derivada es menor a la tolerancia para el ciclo\n",
        "            print(\"La derivada es muy pequeña, no se puede continuar\")\n",
        "            return None\n",
        "\n",
        "        # Fórmula de Newton-Raphson\n",
        "        x_new = x - fx / fpx\n",
        "\n",
        "        # Verificar la convergencia\n",
        "        if abs(x_new - x) < tol:\n",
        "            print(f\"Converge en la iteración {i+1}\")\n",
        "            return x_new\n",
        "\n",
        "        x = x_new  # Actualizar x para la siguiente iteración\n",
        "\n",
        "    print(\"No converge después del número máximo de iteraciones\")\n",
        "    return None\n",
        "\n",
        "# Estimaciones iniciales para los factores de compresibilidad Z\n",
        "Z_guess_vapor = 1  # # El libro de Smith, Van Ness sugiere inicializar Z en 1 para vapor saturado.\n",
        "Z_guess_liquid = 0.005  # Aproximación para el líquido\n",
        "\n",
        "# Calcular Z usando Newton-Raphson\n",
        "Z_vapor = newton_raphson(Rk_vapor, dRk_vapor, Z_guess_vapor)\n",
        "Z_liquid = newton_raphson(Rk_liquid, dRk_liquid, Z_guess_liquid)\n",
        "\n",
        "# Convertir Z a volúmenes molares Vm (en L/mol) y luego a cm^3/mol\n",
        "Vm_vapor_cm3 = Z_vapor * R * T / P *1000 if Z_vapor else None\n",
        "Vm_liquid_cm3 = Z_liquid * R * T / P * 1000  if Z_liquid else None\n",
        "\n",
        "Z_vapor, Z_liquid, Vm_vapor_cm3, Vm_liquid_cm3\n",
        "\n"
      ],
      "metadata": {
        "id": "IzpP3UmtIz1g",
        "outputId": "ea46de8c-d465-4a34-c1a3-1dfc8382e5db",
        "colab": {
          "base_uri": "https://localhost:8080/"
        }
      },
      "execution_count": 2,
      "outputs": [
        {
          "output_type": "stream",
          "name": "stdout",
          "text": [
            "Converge en la iteración 4\n",
            "Converge en la iteración 6\n"
          ]
        },
        {
          "output_type": "execute_result",
          "data": {
            "text/plain": [
              "(0.830353561570580, 0.0433061372400762, 2554.90026626440, 133.247891845345)"
            ]
          },
          "metadata": {},
          "execution_count": 2
        }
      ]
    },
    {
      "cell_type": "code",
      "source": [],
      "metadata": {
        "id": "XoBhi9_pEd4U"
      },
      "execution_count": null,
      "outputs": []
    }
  ]
}