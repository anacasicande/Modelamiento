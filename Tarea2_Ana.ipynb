{
  "nbformat": 4,
  "nbformat_minor": 0,
  "metadata": {
    "colab": {
      "provenance": [],
      "authorship_tag": "ABX9TyOgnvwmy6OtZ7bVW+z5qUVW",
      "include_colab_link": true
    },
    "kernelspec": {
      "name": "python3",
      "display_name": "Python 3"
    },
    "language_info": {
      "name": "python"
    }
  },
  "cells": [
    {
      "cell_type": "markdown",
      "metadata": {
        "id": "view-in-github",
        "colab_type": "text"
      },
      "source": [
        "<a href=\"https://colab.research.google.com/github/anacasicande/Modelamiento/blob/main/Tarea2_Ana.ipynb\" target=\"_parent\"><img src=\"https://colab.research.google.com/assets/colab-badge.svg\" alt=\"Open In Colab\"/></a>"
      ]
    },
    {
      "cell_type": "code",
      "execution_count": 2,
      "metadata": {
        "colab": {
          "base_uri": "https://localhost:8080/"
        },
        "id": "5MnMWLCEjp9S",
        "outputId": "782ac59c-a843-47c4-96c5-913a540df401"
      },
      "outputs": [
        {
          "output_type": "stream",
          "name": "stdout",
          "text": [
            "Converge en la iteración 41\n",
            "El volumen molar del vapor saturado es: 0.133269 L/mol\n",
            "Converge en la iteración 3\n",
            "El volumen molar del líquido saturado es: 0.000000 L/mol\n"
          ]
        }
      ],
      "source": [
        "import numpy as np\n",
        "\n",
        "# Constantes\n",
        "R = 0.08314  # bar·L/(mol·K), constante de los gases\n",
        "T = 350  # K, temperatura\n",
        "P = 9.4573  # bar, presión de vapor saturado\n",
        "\n",
        "# Datos críticos del n-butano\n",
        "T_c = 425.1  # K, temperatura crítica\n",
        "P_c = 37.96  # bar, presión crítica\n",
        "\n",
        "# Cálculo de los parámetros de Redlich-Kwong\n",
        "a = 0.42748 * (R**2) * (T_c**2.5) / P_c\n",
        "b = 0.08664 * R * T_c / P_c\n",
        "\n",
        "# Definir la función Redlich-Kwong\n",
        "def f(V_m):\n",
        "    return (R * T) / (V_m - b) - (a / (V_m * (V_m + b) * np.sqrt(T))) - P\n",
        "\n",
        "# Definir la derivada de la ecuación Redlich-Kwong\n",
        "def f_prime(V_m):\n",
        "    term1 = -(R * T) / (V_m - b)**2\n",
        "    term2 = (a * (2 * V_m + b)) / (V_m**2 * (V_m + b)**2 * np.sqrt(T))\n",
        "    return term1 - term2\n",
        "\n",
        "# Método de Newton-Raphson\n",
        "def newton_raphson(x0, tol=1e-6, max_iter=100):\n",
        "    x = x0\n",
        "    for i in range(max_iter):\n",
        "        fx = f(x)\n",
        "        fpx = f_prime(x)\n",
        "\n",
        "        if abs(fpx) < 1e-8:\n",
        "            print(\"La derivada es muy pequeña, no se puede continuar\")\n",
        "            return None\n",
        "\n",
        "        # Fórmula de Newton-Raphson\n",
        "        x_new = x - fx / fpx\n",
        "\n",
        "        # Verificar la convergencia\n",
        "        if abs(x_new - x) < tol:\n",
        "            print(f\"Converge en la iteración {i+1}\")\n",
        "            return x_new\n",
        "\n",
        "        x = x_new\n",
        "\n",
        "    print(\"No converge después del número máximo de iteraciones\")\n",
        "    return None\n",
        "\n",
        "# Valores iniciales para la fase vapor y la fase líquida\n",
        "V_vapor_initial = 0.2  # Volumen inicial de vapor saturado (en L/mol)\n",
        "V_liquid_initial = 0.005  # Volumen inicial de líquido saturado (en L/mol)\n",
        "\n",
        "# Llamar al método de Newton-Raphson para vapor saturado\n",
        "V_vapor = newton_raphson(V_vapor_initial)\n",
        "if V_vapor is not None:\n",
        "    print(f\"El volumen molar del vapor saturado es: {V_vapor:.6f} L/mol\")\n",
        "\n",
        "# Llamar al método de Newton-Raphson para líquido saturado\n",
        "V_liquid = newton_raphson(V_liquid_initial)\n",
        "if V_liquid is not None:\n",
        "    print(f\"El volumen molar del líquido saturado es: {V_liquid:.6f} L/mol\")"
      ]
    },
    {
      "cell_type": "code",
      "source": [
        "import numpy as np\n",
        "\n",
        "# Definir la función f(x) del problema, puede ser la ecuación de equilibrio o de estado\n",
        "def f(x):\n",
        "    # Ejemplo: f(x) = x^3 - 2x^2 + 4x - 8\n",
        "    return x**3 - 2*x**2 + 4*x - 8\n",
        "\n",
        "# Definir la derivada de la función f'(x)\n",
        "def f_prime(x):\n",
        "    # Derivada de la ecuación: f'(x) = 3x^2 - 4x + 4\n",
        "    return 3*x**2 - 4*x + 4\n",
        "\n",
        "# Implementación del método de Newton-Raphson\n",
        "def newton_raphson(x0, tol=1e-6, max_iter=100):\n",
        "    x = x0\n",
        "    for i in range(max_iter):\n",
        "        fx = f(x)\n",
        "        fpx = f_prime(x)\n",
        "\n",
        "        if abs(fpx) < 1e-8:\n",
        "            print(\"La derivada es muy pequeña, no se puede continuar\")\n",
        "            return None\n",
        "\n",
        "        # Fórmula de Newton-Raphson\n",
        "        x_new = x - fx / fpx\n",
        "\n",
        "        # Verificar la convergencia\n",
        "        if abs(x_new - x) < tol:\n",
        "            print(f\"Converge en la iteración {i+1}\")\n",
        "            return x_new\n",
        "\n",
        "        x = x_new\n",
        "\n",
        "    print(\"No converge después del número máximo de iteraciones\")\n",
        "    return None\n",
        "\n",
        "# Valor inicial de prueba\n",
        "x0 = 2.0  # Elegir un valor inicial adecuado según el problema\n",
        "\n",
        "# Llamar al método de Newton-Raphson\n",
        "solucion = newton_raphson(x0)\n",
        "\n",
        "if solucion is not None:\n",
        "    print(f\"La solución es: {solucion}\")"
      ],
      "metadata": {
        "colab": {
          "base_uri": "https://localhost:8080/"
        },
        "id": "MWuVKBgRjqun",
        "outputId": "e24504f2-c3e9-4452-f091-99d3adbdd55c"
      },
      "execution_count": 1,
      "outputs": [
        {
          "output_type": "stream",
          "name": "stdout",
          "text": [
            "Converge en la iteración 1\n",
            "La solución es: 2.0\n"
          ]
        }
      ]
    }
  ]
}