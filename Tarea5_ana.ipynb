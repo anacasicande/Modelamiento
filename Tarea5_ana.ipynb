{
  "nbformat": 4,
  "nbformat_minor": 0,
  "metadata": {
    "colab": {
      "provenance": [],
      "authorship_tag": "ABX9TyNqTTH6YJNDftBlws8Ob/xv",
      "include_colab_link": true
    },
    "kernelspec": {
      "name": "python3",
      "display_name": "Python 3"
    },
    "language_info": {
      "name": "python"
    }
  },
  "cells": [
    {
      "cell_type": "markdown",
      "metadata": {
        "id": "view-in-github",
        "colab_type": "text"
      },
      "source": [
        "<a href=\"https://colab.research.google.com/github/anacasicande/Modelamiento/blob/main/Tarea5_ana.ipynb\" target=\"_parent\"><img src=\"https://colab.research.google.com/assets/colab-badge.svg\" alt=\"Open In Colab\"/></a>"
      ]
    },
    {
      "cell_type": "code",
      "execution_count": null,
      "metadata": {
        "id": "JMugFPuKW6MY"
      },
      "outputs": [],
      "source": [
        "import numpy as np\n",
        "import matplotlib.pyplot as plt\n",
        "import pandas as pd\n",
        "\n",
        "archivo=pd.read_csv(\"datosaireindia.csv\")\n",
        "columnaNox=np.array(archivo['NOx(ppb)'])\n",
        "print (\"Columna de tiempo\", columnaNox)\n",
        "\n",
        "# Definir la función a derivar\n",
        "def f(x):\n",
        "    return np.sin(x)\n",
        "\n",
        "# Definir las derivadas analíticas\n",
        "def f_prime(x):\n",
        "    return np.cos(x)\n",
        "\n",
        "# Diferencias hacia adelante\n",
        "def forward_difference(f, x, h):\n",
        "    return (f(x + h) - f(x)) / h\n",
        "\n",
        "# Diferencias hacia atrás\n",
        "def backward_difference(f, x, h):\n",
        "    return (f(x) - f(x - h)) / h\n",
        "\n",
        "# Diferencias centradas\n",
        "def centered_difference(f, x, h):\n",
        "    return (f(x + h) - f(x - h)) / (2 * h)\n",
        "\n",
        "# Rango de valores de x\n",
        "x_values = columnaNox\n",
        "# Valores de h a probar\n",
        "h_values = [1.5, 1, 0.5, 0.1, 0.01, 0.001]\n",
        "\n",
        "# Crear subgráficos\n",
        "fig, axs = plt.subplots(len(h_values), figsize=(10, 18))\n",
        "\n",
        "for i, h in enumerate(h_values):\n",
        "    # Calcular las aproximaciones de la derivada\n",
        "    forward = [forward_difference(f, x, h) for x in x_values]\n",
        "    backward = [backward_difference(f, x, h) for x in x_values]\n",
        "    centered = [centered_difference(f, x, h) for x in x_values]\n",
        "\n",
        "    # Graficar las aproximaciones\n",
        "    axs[i].plot(x_values, forward, label=f'Forward (h={h})')\n",
        "    axs[i].plot(x_values, backward, label=f'Backward (h={h})')\n",
        "    axs[i].plot(x_values, centered, label=f'Centered (h={h})')\n",
        "    axs[i].plot(x_values, f_prime(x_values), label='Analytical', linestyle='--')\n",
        "    axs[i].set_title(f'Aproximaciones de la derivada con h={h}')\n",
        "    axs[i].legend()\n",
        "    axs[i].grid(True)\n",
        "\n",
        "plt.tight_layout()\n",
        "plt.show()"
      ]
    }
  ]
}