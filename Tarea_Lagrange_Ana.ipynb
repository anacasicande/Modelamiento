{
  "nbformat": 4,
  "nbformat_minor": 0,
  "metadata": {
    "colab": {
      "provenance": [],
      "include_colab_link": true
    },
    "kernelspec": {
      "name": "python3",
      "display_name": "Python 3"
    },
    "language_info": {
      "name": "python"
    }
  },
  "cells": [
    {
      "cell_type": "markdown",
      "metadata": {
        "id": "view-in-github",
        "colab_type": "text"
      },
      "source": [
        "<a href=\"https://colab.research.google.com/github/anacasicande/Modelamiento/blob/main/Tarea_Lagrange_Ana.ipynb\" target=\"_parent\"><img src=\"https://colab.research.google.com/assets/colab-badge.svg\" alt=\"Open In Colab\"/></a>"
      ]
    },
    {
      "cell_type": "code",
      "source": [
        "import numpy as np\n",
        "import sympy as sp\n",
        "\n",
        "def lagrange_interpolation(x_points, y_points):\n",
        "    # Definir la variable simbólica\n",
        "    x = sp.symbols('x')\n",
        "\n",
        "    # Número de puntos\n",
        "    n = len(x_points)\n",
        "\n",
        "    # Inicializar el polinomio de Lagrange\n",
        "    P = 0\n",
        "\n",
        "    # Construir el polinomio de Lagrange\n",
        "    for i in range(n):\n",
        "        # Inicializar L_i(x)\n",
        "        L_i = 1\n",
        "        for j in range(n):\n",
        "            if i != j:\n",
        "                # Construir cada L_i(x)\n",
        "                L_i *= (x - x_points[j]) / (x_points[i] - x_points[j])\n",
        "\n",
        "        # Añadir el término al polinomio de Lagrange\n",
        "        P += y_points[i] * L_i\n",
        "\n",
        "    # Simplificar el polinomio\n",
        "    P = sp.simplify(P)\n",
        "\n",
        "    return P\n",
        "\n",
        "# Puntos dados\n",
        "x_points = [0, 3, 3]\n",
        "y_points = [-1, 1, 2]\n",
        "\n",
        "# Obtener el polinomio de Lagrange\n",
        "polinomio_lagrange = lagrange_interpolation(x_points, y_points)\n",
        "\n",
        "# Pedir al usuario un valor para evaluar el polinomio\n",
        "input_value = float(input(\"Ingresa el valor donde quieres evaluar el polinomio: \"))\n",
        "\n",
        "# Evaluar el polinomio en el punto proporcionado por el usuario\n",
        "evaluated_value = polinomio_lagrange.evalf(subs={sp.symbols('x'): input_value})\n",
        "\n",
        "# Mostrar el resultado\n",
        "print(f\"\\nP({input_value}) = {evaluated_value}\")\n"
      ],
      "metadata": {
        "colab": {
          "base_uri": "https://localhost:8080/"
        },
        "id": "B8ZjL0tPUVZJ",
        "outputId": "cc0ce3eb-5cad-4725-9f29-08c5dd1e1530"
      },
      "execution_count": 1,
      "outputs": [
        {
          "output_type": "stream",
          "name": "stdout",
          "text": [
            "Ingresa el valor donde quieres evaluar el polinomio: 2\n",
            "\n",
            "P(2.0) = zoo\n"
          ]
        }
      ]
    }
  ]
}