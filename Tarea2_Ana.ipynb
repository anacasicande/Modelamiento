{
  "nbformat": 4,
  "nbformat_minor": 0,
  "metadata": {
    "colab": {
      "provenance": [],
      "include_colab_link": true
    },
    "kernelspec": {
      "name": "python3",
      "display_name": "Python 3"
    },
    "language_info": {
      "name": "python"
    }
  },
  "cells": [
    {
      "cell_type": "markdown",
      "metadata": {
        "id": "view-in-github",
        "colab_type": "text"
      },
      "source": [
        "<a href=\"https://colab.research.google.com/github/anacasicande/Modelamiento/blob/main/Tarea2_Ana.ipynb\" target=\"_parent\"><img src=\"https://colab.research.google.com/assets/colab-badge.svg\" alt=\"Open In Colab\"/></a>"
      ]
    },
    {
      "cell_type": "code",
      "execution_count": 21,
      "metadata": {
        "colab": {
          "base_uri": "https://localhost:8080/"
        },
        "id": "5MnMWLCEjp9S",
        "outputId": "5f376af2-7cbe-41d2-894c-7f07b79fdb8c"
      },
      "outputs": [
        {
          "output_type": "stream",
          "name": "stdout",
          "text": [
            "Converge en la iteración 4\n",
            "El volumen molar del vapor saturado es: 2555.319101 cm^3/mol\n",
            "Converge en la iteración 6\n",
            "El volumen molar del líquido saturado es: 133.266324 cm^3/mol\n"
          ]
        }
      ],
      "source": [
        "import numpy as np\n",
        "import sympy as sp\n",
        "#Primero importamos la librería que se va a utilizar, en este caso Numpy que será utilizada para facilitar el uso de ciertas ecuaciones.\n",
        "#Luego definimos las variables que serán utilizadas a lo largo de todo el código\n",
        "\n",
        "# Constantes\n",
        "R = 0.08314  # bar·L/(mol·K), constante de los gases\n",
        "T = 350  # K, temperatura\n",
        "P = 9.4573  # bar, presión de vapor saturado\n",
        "T_c = 425.1  # K, temperatura crítica del n-butano\n",
        "P_c = 37.96  # bar, presión crítica del n-butano\n",
        "\n",
        "T_r= T/T_c\n",
        "P_r=P/P_c\n",
        "Psi= 0.42748\n",
        "Omega= 0.08664\n",
        "Z=sp.Symbol('Z')\n",
        "# Definimos los valores que serán utilizados para la ecuación de Redlich-Kwong\n",
        "a =(Psi * (T_r**(-1/2))/(Omega*T_r))\n",
        "b = Omega *(P_r/T_r)\n",
        "\n",
        "# Defino la función de Redlich-Kwong para vapor\n",
        "def f_VapRK(Z):\n",
        "    H=Z-(1+b-(b*a)*((Z-b)/(Z*(Z+b)))) #Yo lo igualo a una variable que después será retornada\n",
        "    return H\n",
        "#se hace la derivada de la funcion que encuentra los valores de z en Redlich-Kwong\n",
        "def f_dVapRK(Z_value):\n",
        "  devvapor= sp.diff(f_VapRK(Z),Z) #Abrimos la librería sympy la cual es la encargada de derivar la función para el vapor con respecto a Z\n",
        "  return devvapor.subs(Z,Z_value).evalf()\n",
        "\n",
        "# Defino la ecuación Redlich-Kwong para líquido\n",
        "def f_LiqRK(Z):\n",
        "    T=Z-(b+Z*(Z+b)*((1+b-Z)/(a*b)))\n",
        "    return T\n",
        "\n",
        "def f_dLiqRK(Z_value):\n",
        "  devliq= sp.diff(f_LiqRK(Z),Z)\n",
        "  return devliq.subs(Z,Z_value).evalf()\n",
        "\n",
        "# Método de Newton-Raphson\n",
        "def newton_raphson(funV,funP,Z, tol=1e-10, max_iter=1000):\n",
        "    x = Z\n",
        "    for i in range(max_iter):\n",
        "        fx = funV(x)\n",
        "        fpx = funP(x)\n",
        "\n",
        "        fpx_val= float(fpx)\n",
        "\n",
        "        if abs(fpx) < tol:\n",
        "            print(\"La derivada es muy pequeña, no se puede continuar\")\n",
        "            return None\n",
        "\n",
        "        # Fórmula de Newton-Raphson\n",
        "        z_new = x - fx / fpx_val\n",
        "\n",
        "        # Verificar la convergencia\n",
        "        if abs(z_new - x) < tol:\n",
        "            print(f\"Converge en la iteración {i+1}\")\n",
        "            return z_new\n",
        "\n",
        "        x = z_new\n",
        "\n",
        "    print(\"No converge después del número máximo de iteraciones\")\n",
        "    return None\n",
        "\n",
        "# Valores iniciales para la fase vapor y la fase líquida\n",
        "Z_inicialvap = 1  # Volumen inicial de vapor saturado (en L/mol)\n",
        "Z_inicialliq = 0.005  # Volumen inicial de líquido saturado (en L/mol)\n",
        "\n",
        "# Llamar al método de Newton-Raphson para vapor saturado\n",
        "V_vapor = newton_raphson(f_VapRK, f_dVapRK, Z_inicialvap)*1000*R*T/P\n",
        "if V_vapor is not None:\n",
        "    print(f\"El volumen molar del vapor saturado es: {V_vapor:.6f} cm^3/mol\")\n",
        "\n",
        "# Llamar al método de Newton-Raphson para líquido saturado\n",
        "V_liquid = newton_raphson(f_LiqRK, f_dLiqRK, Z_inicialliq)*1000*R*T/P\n",
        "if V_liquid is not None:\n",
        "    print(f\"El volumen molar del líquido saturado es: {V_liquid:.6f} cm^3/mol\")\n"
      ]
    },
    {
      "cell_type": "code",
      "source": [],
      "metadata": {
        "id": "hiJ4jjzCxHDf"
      },
      "execution_count": null,
      "outputs": []
    }
  ]
}