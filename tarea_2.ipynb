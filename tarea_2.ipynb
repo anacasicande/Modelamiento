{
  "nbformat": 4,
  "nbformat_minor": 0,
  "metadata": {
    "colab": {
      "provenance": [],
      "authorship_tag": "ABX9TyMC7CAbxr2Y12AvjxCTWeNR",
      "include_colab_link": true
    },
    "kernelspec": {
      "name": "python3",
      "display_name": "Python 3"
    },
    "language_info": {
      "name": "python"
    }
  },
  "cells": [
    {
      "cell_type": "markdown",
      "metadata": {
        "id": "view-in-github",
        "colab_type": "text"
      },
      "source": [
        "<a href=\"https://colab.research.google.com/github/anacasicande/Modelamiento/blob/main/tarea_2.ipynb\" target=\"_parent\"><img src=\"https://colab.research.google.com/assets/colab-badge.svg\" alt=\"Open In Colab\"/></a>"
      ]
    },
    {
      "cell_type": "code",
      "execution_count": null,
      "metadata": {
        "id": "pHKbCKramIAx",
        "colab": {
          "base_uri": "https://localhost:8080/",
          "height": 332
        },
        "outputId": "daa51af3-a72a-4e24-a932-f008cfd4e3fd"
      },
      "outputs": [
        {
          "output_type": "error",
          "ename": "ValueError",
          "evalue": "El método de Newton-Raphson no convergió.",
          "traceback": [
            "\u001b[0;31m---------------------------------------------------------------------------\u001b[0m",
            "\u001b[0;31mValueError\u001b[0m                                Traceback (most recent call last)",
            "\u001b[0;32m<ipython-input-16-a99abada66ac>\u001b[0m in \u001b[0;36m<cell line: 54>\u001b[0;34m()\u001b[0m\n\u001b[1;32m     52\u001b[0m \u001b[0;34m\u001b[0m\u001b[0m\n\u001b[1;32m     53\u001b[0m \u001b[0;31m# Calcular los volúmenes molares\u001b[0m\u001b[0;34m\u001b[0m\u001b[0;34m\u001b[0m\u001b[0m\n\u001b[0;32m---> 54\u001b[0;31m \u001b[0mVm_vapor\u001b[0m \u001b[0;34m=\u001b[0m \u001b[0mnewton_raphson\u001b[0m\u001b[0;34m(\u001b[0m\u001b[0mVm_guess_vapor\u001b[0m\u001b[0;34m)\u001b[0m\u001b[0;34m\u001b[0m\u001b[0;34m\u001b[0m\u001b[0m\n\u001b[0m\u001b[1;32m     55\u001b[0m \u001b[0mVm_liquid\u001b[0m \u001b[0;34m=\u001b[0m \u001b[0mnewton_raphson\u001b[0m\u001b[0;34m(\u001b[0m\u001b[0mVm_guess_liquid\u001b[0m\u001b[0;34m,\u001b[0m\u001b[0mmax_iter\u001b[0m\u001b[0;34m=\u001b[0m\u001b[0;36m200\u001b[0m\u001b[0;34m)\u001b[0m\u001b[0;34m\u001b[0m\u001b[0;34m\u001b[0m\u001b[0m\n\u001b[1;32m     56\u001b[0m \u001b[0mVm_vapor_cm3\u001b[0m \u001b[0;34m=\u001b[0m \u001b[0mVm_vapor\u001b[0m \u001b[0;34m*\u001b[0m \u001b[0;36m1000\u001b[0m\u001b[0;34m\u001b[0m\u001b[0;34m\u001b[0m\u001b[0m\n",
            "\u001b[0;32m<ipython-input-16-a99abada66ac>\u001b[0m in \u001b[0;36mnewton_raphson\u001b[0;34m(Vm_guess, tol, max_iter)\u001b[0m\n\u001b[1;32m     45\u001b[0m         \u001b[0mVm\u001b[0m \u001b[0;34m=\u001b[0m \u001b[0mVm_new\u001b[0m\u001b[0;34m\u001b[0m\u001b[0;34m\u001b[0m\u001b[0m\n\u001b[1;32m     46\u001b[0m \u001b[0;34m\u001b[0m\u001b[0m\n\u001b[0;32m---> 47\u001b[0;31m     \u001b[0;32mraise\u001b[0m \u001b[0mValueError\u001b[0m\u001b[0;34m(\u001b[0m\u001b[0;34m\"El método de Newton-Raphson no convergió.\"\u001b[0m\u001b[0;34m)\u001b[0m\u001b[0;34m\u001b[0m\u001b[0;34m\u001b[0m\u001b[0m\n\u001b[0m\u001b[1;32m     48\u001b[0m \u001b[0;34m\u001b[0m\u001b[0m\n\u001b[1;32m     49\u001b[0m \u001b[0;31m# Estimaciones iniciales para los volúmenes molares\u001b[0m\u001b[0;34m\u001b[0m\u001b[0;34m\u001b[0m\u001b[0m\n",
            "\u001b[0;31mValueError\u001b[0m: El método de Newton-Raphson no convergió."
          ]
        }
      ],
      "source": [
        "import numpy as np\n",
        "\n",
        "# Constantes dadas\n",
        "P = 9.4573  # Presión en bar\n",
        "T = 350.0   # Temperatura en K\n",
        "R = 0.08314  # Constante de los gases en bar·L/mol·K\n",
        "\n",
        "# Propiedades críticas del n-butano\n",
        "Tc = 425.2  # Temperatura crítica en K\n",
        "Pc = 37.96  # Presión crítica en bar\n",
        "tr=T/Tc\n",
        "pr=P/Pc\n",
        "\n",
        "# Parámetros de la ecuación de Redlich-Kwong\n",
        "q=(0.42748/0.08664)*(tr**(-3/2))\n",
        "b=0.08664*(tr/pr)\n",
        "# Definir la función de Redlich-Kwong y su derivada usando numpy\n",
        "def Rk_vapor(Vm):\n",
        "    zv=1+b-q*b*((zv-b)/(zv(zv+b)))\n",
        "    return zv\n",
        "\n",
        "def Rk_liquid(Vm):\n",
        "    zl=b+zl*(zl+b)*((1+b-zl)/(q*b))\n",
        "    return zl\n",
        "\n",
        "# Método de Newton-Raphson\n",
        "def newton_raphson(Vm_guess, tol=1e-6, max_iter=100):\n",
        "    Vm = Vm_guess\n",
        "    for i in range(max_iter):\n",
        "        f_val = f(Vm)\n",
        "        f_deriv = f_prime(Vm)\n",
        "\n",
        "        # Evitar división por cero o valores no definidos\n",
        "        if np.isclose(f_deriv,0,atol=1e-12):\n",
        "           Vm +=1e-6\n",
        "           continue\n",
        "\n",
        "        Vm_new = Vm - f_val / f_deriv\n",
        "\n",
        "        # Verificar convergencia\n",
        "        if np.abs(Vm_new - Vm) < tol:\n",
        "            return Vm_new\n",
        "\n",
        "        Vm = Vm_new\n",
        "\n",
        "    raise ValueError(\"El método de Newton-Raphson no convergió.\")\n",
        "\n",
        "# Estimaciones iniciales para los volúmenes molares\n",
        "Vm_guess_vapor = 2.555  # Para el vapor\n",
        "Vm_guess_liquid = 0.1333  # Para el líquido (valor muy cercano a b)\n",
        "\n",
        "# Calcular los volúmenes molares\n",
        "Vm_vapor = newton_raphson(Vm_guess_vapor)\n",
        "Vm_liquid = newton_raphson(Vm_guess_liquid,max_iter=200)\n",
        "Vm_vapor_cm3 = Vm_vapor * 1000\n",
        "Vm_liquid_cm3 = Vm_liquid * 1000\n",
        "\n",
        "# Imprimir los resultados\n",
        "print(\"Volumen molar del vapor:\", Vm_vapor_cm3)\n",
        "print(\"Volumen molar del líquido:\", Vm_liquid_cm3)\n"
      ]
    },
    {
      "cell_type": "code",
      "source": [
        "import numpy as np\n",
        "\n",
        "# Constantes dadas\n",
        "P = 9.4573  # Presión en bar\n",
        "T = 350.0   # Temperatura en K\n",
        "R = 0.08314  # Constante de los gases en bar·L/mol·K\n",
        "\n",
        "# Propiedades críticas del n-butane\n",
        "Tc = 425.2  # Temperatura crítica en K\n",
        "Pc = 37.96  # Presión crítica en bar\n",
        "tr = T / Tc  # Temperatura reducida\n",
        "pr = P / Pc  # Presión reducida\n",
        "\n",
        "# Parámetros de la ecuación de Redlich-Kwong\n",
        "q = (0.42748 / 0.08664) * (tr**(-3/2))\n",
        "b = 0.08664 * (tr / pr)\n",
        "\n",
        "# Función para Z_vapor usando Redlich-Kwong\n",
        "def Rk_vapor(Z):\n",
        "    return Z - (1 + b - q * b * ((Z - b) / (Z * (Z + b))))\n",
        "\n",
        "# Derivada de la función Z_vapor\n",
        "def dRk_vapor(Z):\n",
        "    numerator = q * b * (b * Z + 2 * Z**2)\n",
        "    denominator = Z**2 * (Z + b)**2\n",
        "    return 1 - numerator / denominator\n",
        "\n",
        "# Función para Z_liquid usando Redlich-Kwong\n",
        "def Rk_liquid(Z):\n",
        "    return Z - (b + Z * (Z + b) * ((1 + b - Z) / (q * b)))\n",
        "\n",
        "# Derivada de la función Z_liquid\n",
        "def dRk_liquid(Z):\n",
        "    term1 = 2 * Z + b\n",
        "    term2 = (1 + b - Z) / (q * b)\n",
        "    term3 = Z * (Z + b) / (q * b)\n",
        "    return 1 - term1 * term2 + term3\n",
        "\n",
        "# Método de Newton-Raphson\n",
        "def newton_raphson(func, dfunc, Z_guess, tol=1e-3, max_iter=200):\n",
        "    Z = Z_guess\n",
        "    for i in range(max_iter):\n",
        "        f_val = func(Z)\n",
        "        f_deriv = dfunc(Z)\n",
        "        if f_deriv == 0:\n",
        "            raise ValueError(\"La derivada es cero. El método de Newton-Raphson falló.\")\n",
        "        Z_new = Z - f_val / f_deriv\n",
        "\n",
        "\n",
        "\n",
        "        if np.abs(Z_new - Z) < tol:\n",
        "            return Z_new\n",
        "        Z = Z_new\n",
        "    raise ValueError(\"El método de Newton-Raphson no convergió.\")\n",
        "\n",
        "# Estimaciones iniciales para los factores de compresibilidad Z\n",
        "Z_guess_vapor = 0.9  # Aproximación para el vapor\n",
        "Z_guess_liquid = 0.05  # Aproximación para el líquido\n",
        "\n",
        "# Calcular Z usando Newton-Raphson\n",
        "Z_vapor = newton_raphson(Rk_vapor, dRk_vapor, Z_guess_vapor)\n",
        "Z_liquid = newton_raphson(Rk_liquid, dRk_liquid, Z_guess_liquid)\n",
        "\n",
        "# Convertir Z a volúmenes molares Vm (en L/mol) y luego a cm^3/mol\n",
        "Vm_vapor_cm3 = Z_vapor * R * T / P * 1000\n",
        "Vm_liquid_cm3 = Z_liquid * R * T / P * 1000\n",
        "\n",
        "Z_vapor, Z_liquid, Vm_vapor_cm3, Vm_liquid_cm3\n",
        "\n"
      ],
      "metadata": {
        "id": "dTG2Lx1bM5la",
        "outputId": "735b6a79-7a47-4e8a-cef0-56a81b04e81b",
        "colab": {
          "base_uri": "https://localhost:8080/"
        }
      },
      "execution_count": 15,
      "outputs": [
        {
          "output_type": "execute_result",
          "data": {
            "text/plain": [
              "(-0.28493792512158905,\n",
              " 0.42330963504710306,\n",
              " -876.7204892636503,\n",
              " 1302.4739693396268)"
            ]
          },
          "metadata": {},
          "execution_count": 15
        }
      ]
    }
  ]
}