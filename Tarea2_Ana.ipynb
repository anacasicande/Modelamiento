{
  "nbformat": 4,
  "nbformat_minor": 0,
  "metadata": {
    "colab": {
      "provenance": [],
      "include_colab_link": true
    },
    "kernelspec": {
      "name": "python3",
      "display_name": "Python 3"
    },
    "language_info": {
      "name": "python"
    }
  },
  "cells": [
    {
      "cell_type": "markdown",
      "metadata": {
        "id": "view-in-github",
        "colab_type": "text"
      },
      "source": [
        "<a href=\"https://colab.research.google.com/github/anacasicande/Modelamiento/blob/main/Tarea2_Ana.ipynb\" target=\"_parent\"><img src=\"https://colab.research.google.com/assets/colab-badge.svg\" alt=\"Open In Colab\"/></a>"
      ]
    },
    {
      "cell_type": "code",
      "execution_count": 5,
      "metadata": {
        "colab": {
          "base_uri": "https://localhost:8080/"
        },
        "id": "5MnMWLCEjp9S",
        "outputId": "be83d526-d62a-4cb9-9532-3abff0a03cb0"
      },
      "outputs": [
        {
          "output_type": "stream",
          "name": "stdout",
          "text": [
            "Converge en la iteración 4\n",
            "El volumen molar del vapor saturado es: 2555.32 cm^3/mol\n",
            "La Z para este caso es: 0.830\n",
            "Converge en la iteración 6\n",
            "El volumen molar del líquido saturado es: 133.27 cm^3/mol\n",
            "La Z para este caso es: 0.043\n"
          ]
        }
      ],
      "source": [
        "import numpy as np\n",
        "import sympy as sp\n",
        "#Primero importamos la librería que se va a utilizar, en este caso Numpy que será\n",
        "# utilizada para facilitar el uso de ciertas ecuaciones.\n",
        "#Luego definimos las variables que serán utilizadas a lo largo de todo el código\n",
        "\n",
        "# Constantes\n",
        "R = 0.08314  # bar·L/(mol·K), constante de los gases\n",
        "T = 350  # K, temperatura\n",
        "P = 9.4573  # bar, presión de vapor saturado\n",
        "T_c = 425.1  # K, temperatura crítica del n-butano\n",
        "P_c = 37.96  # bar, presión crítica del n-butano\n",
        "\n",
        "T_r= T/T_c #Definimos la ecuación de la temperatura reducida\n",
        "P_r=P/P_c #Definimos la ecuación de la presión reducica\n",
        "Psi= 0.42748 #Este valor se saca de la tabla 3.1 en la fila de RK para la columna de PSI\n",
        "Omega= 0.08664 #Este valor se encuentra en la tabla 3.1 en la fila de RK para la columna de OMEGA\n",
        "Z=sp.Symbol('Z') #Utilizamos el Symbol de la librería Sympy para tratar la Z como un valor\n",
        "\n",
        "# Definimos los valores que serán utilizados para la ecuación de Redlich-Kwong\n",
        "a =(Psi * (T_r**(-1/2))/(Omega*T_r)) #Hacemos el cálculo para encontrar el valor de la q\n",
        "b = Omega *(P_r/T_r) #Hacemos el cálculo de lo que será nuestra Betha\n",
        "\n",
        "# Defino la función de Redlich-Kwong para vapor\n",
        "def f_VapRK(Z):\n",
        "    H=Z-(1+b-(b*a)*((Z-b)/(Z*(Z+b)))) # Igualo la ecuación para vapor segur RK,\n",
        "    # igualo la ecuación a una variable y le resto el término al que estaría igualado Z\n",
        "    return H #Me devuelve la variable\n",
        "\n",
        "#Se hace la derivada de la funcion que encuentra los valores de z en Redlich-Kwong\n",
        "def f_dVapRK(Z_value): #\n",
        "  devvapor= sp.diff(f_VapRK(Z),Z) #Abrimos la librería sympy la cual es la\n",
        "  # encargada de derivar la función para el vapor con respecto a Z\n",
        "  M=devvapor.subs(Z,Z_value) #Aquí obtenemos el valor de la derivada simbólica que definimos\n",
        "  # anteriormente y esto nos permite trabajar con Z no como un número, lo que permite\n",
        "  # derivar con respecto a ella\n",
        "  return M.evalf() # Convierte el valor simbólico con el que estábamos trabajando\n",
        "  # en un valor numérico\n",
        "\n",
        "# Defino la ecuación Redlich-Kwong para líquido\n",
        "def f_LiqRK(Z):\n",
        "    T=Z-(b+(Z*(Z+b)*((1+b-Z)/(a*b)))) #Hacemos lo mismo que hicimos para el vapor\n",
        "    #pero esta vez para el líquido despejando la ecuación de líquido la cual estamos\n",
        "    #igualando a la variable que esta vez sería T\n",
        "    return T\n",
        "\n",
        "#Defino la función que va a derivar la ecuación de RK para el líquido\n",
        "def f_dLiqRK(Z_value):\n",
        "  devliq= sp.diff(f_LiqRK(Z),Z) #Abrimos la librería sympy la cual es la\n",
        "  # encargada de derivar la función para el líquido con respecto a Z\n",
        "  N=devliq.subs(Z,Z_value)#Aquí obtenemos el valor de la derivada simbólica que definimos\n",
        "  # anteriormente y esto nos permite trabajar con Z no como un número, lo que permite\n",
        "  # derivar con respecto a ella\n",
        "  return N.evalf() # Convierte el valor simbólico con el que estábamos trabajando\n",
        "  # en un valor numérico\n",
        "\n",
        "# Método de Newton-Raphson\n",
        "def newton_raphson(funV,funP,Z, tol=1e-10, max_iter=1000): #Definimos la función\n",
        "# de Newton-Raphson la cual recube dos funciones, la del vapor y la del líquido,\n",
        "# recibe el valor que ya se había tomado de Z\n",
        "    x = Z\n",
        "    for i in range(max_iter):\n",
        "        fx = funV(x)\n",
        "        fpx = funP(x)\n",
        "\n",
        "        fpx_val= float(fpx)\n",
        "\n",
        "        if abs(fpx) < tol:\n",
        "            print(\"La derivada es muy pequeña, no se puede continuar\")\n",
        "            return None\n",
        "\n",
        "        # Fórmula de Newton-Raphson\n",
        "        z_new = x - fx / fpx_val\n",
        "\n",
        "        # Verificar la convergencia\n",
        "        if abs(z_new - x) < tol:\n",
        "            print(f\"Converge en la iteración {i+1}\")\n",
        "            return z_new\n",
        "\n",
        "        x = z_new\n",
        "\n",
        "    print(\"No converge después del número máximo de iteraciones\")\n",
        "    return None\n",
        "\n",
        "# Valores iniciales para la fase vapor y la fase líquida\n",
        "Z_inicialvap = 1  # Volumen inicial de vapor saturado (en L/mol)\n",
        "Z_inicialliq = 0.005  # Volumen inicial de líquido saturado (en L/mol)\n",
        "\n",
        "# Llamar al método de Newton-Raphson para vapor saturado\n",
        "V_vapor = newton_raphson(f_VapRK, f_dVapRK, Z_inicialvap)*1000*R*T/P #Además de\n",
        "# hacer el método de Newton-Raphson, se termina multiplica la Z por 1000 ya que antes estaba\n",
        "# en valores de litros, ahora está en centímetros cúbicos. Y también se mmultiplica\n",
        "# por la constante de los gases ideales R y por la temperatura, se divide por\n",
        "# la presión y con esto podemos hayar el volúmen del vapor\n",
        "\n",
        "if V_vapor is not None:\n",
        "    print(f\"El volumen molar del vapor saturado es: {V_vapor:.2f} cm^3/mol\")#Imprimimos\n",
        "    # el valor que se obtiene para el vapor\n",
        "    print(f\"La Z para este caso es: {(V_vapor*P/(1000*R*T)):.3f}\")# Imprimimos\n",
        "    # el valor de la Z mediante la multiplicación de la presión sobre 1000, la constante\n",
        "    # de gases ideales y la temperatura.\n",
        "\n",
        "\n",
        "# Llamar al método de Newton-Raphson para líquido saturado\n",
        "V_liquid = newton_raphson(f_LiqRK, f_dLiqRK, Z_inicialliq)*1000*R*T/P#Además de\n",
        "# hacer el método de Newton-Raphson, se termina multiplica la Z por 1000 ya que antes estaba\n",
        "# en valores de litros, ahora está en centímetros cúbicos. Y también se mmultiplica\n",
        "# por la constante de los gases ideales R y por la temperatura, se divide por\n",
        "# la presión y con esto podemos hayar el volúmen del líquido\n",
        "\n",
        "if V_liquid is not None:\n",
        "    print(f\"El volumen molar del líquido saturado es: {V_liquid:.2f} cm^3/mol\")#Imprimimos\n",
        "    # el valor que se obtiene para el volumen del líquido\n",
        "    print(f\"La Z para este caso es: {(V_liquid*P/(1000*R*T)):.3f}\")# Imprimimos\n",
        "    # el valor de la Z mediante la multiplicación de la presión sobre 1000, la constante\n",
        "    # de gases ideales y la temperatura.\n"
      ]
    },
    {
      "cell_type": "code",
      "source": [],
      "metadata": {
        "id": "hiJ4jjzCxHDf"
      },
      "execution_count": null,
      "outputs": []
    }
  ]
}