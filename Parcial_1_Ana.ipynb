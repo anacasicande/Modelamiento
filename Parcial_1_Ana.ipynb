{
  "nbformat": 4,
  "nbformat_minor": 0,
  "metadata": {
    "colab": {
      "provenance": [],
      "include_colab_link": true
    },
    "kernelspec": {
      "name": "python3",
      "display_name": "Python 3"
    },
    "language_info": {
      "name": "python"
    }
  },
  "cells": [
    {
      "cell_type": "markdown",
      "metadata": {
        "id": "view-in-github",
        "colab_type": "text"
      },
      "source": [
        "<a href=\"https://colab.research.google.com/github/anacasicande/Modelamiento/blob/main/Parcial_1_Ana.ipynb\" target=\"_parent\"><img src=\"https://colab.research.google.com/assets/colab-badge.svg\" alt=\"Open In Colab\"/></a>"
      ]
    },
    {
      "cell_type": "code",
      "execution_count": 10,
      "metadata": {
        "colab": {
          "base_uri": "https://localhost:8080/"
        },
        "id": "VPtxwJkTsv4P",
        "outputId": "1de5773c-31c2-4abb-9828-6526e431fda6"
      },
      "outputs": [
        {
          "output_type": "stream",
          "name": "stdout",
          "text": [
            "[1.0, 0.0, 0.2]\n",
            "[0.0, 1.0, 0.8]\n"
          ]
        }
      ],
      "source": [
        "def gauss_jordan(matrix):\n",
        "    rows = len(matrix)\n",
        "    cols = len(matrix[0])\n",
        "\n",
        "    for i in range(rows):\n",
        "        # Pivote parcial, busca el elemento máximo en la columna i\n",
        "        max_row = max(range(i, rows), key=lambda x: abs(matrix[x][i]))\n",
        "        matrix[i], matrix[max_row] = matrix[max_row], matrix[i]\n",
        "\n",
        "        # Hace que el pivote sea igual a 1\n",
        "        pivot = matrix[i][i]\n",
        "        for j in range(i, cols):\n",
        "            matrix[i][j] /= pivot\n",
        "\n",
        "        # Hace ceros encima y debajo del pivote\n",
        "        for k in range(rows):\n",
        "            if k != i:\n",
        "                factor = matrix[k][i]\n",
        "                for j in range(i, cols):\n",
        "                    matrix[k][j] -= factor * matrix[i][j]\n",
        "\n",
        "    return matrix\n",
        "# Ejemplo de uso\n",
        "Co=1 #Valor de Co\n",
        "T=4 #Valor de la k\n",
        "Ca=1+T #Valor del despeje de Ca\n",
        "Cb=1+T #Valor del despeje de Cb\n",
        "matrix = [\n",
        "    [Ca, 0, Co],  #Se toma el vector 1 en donde tenemos la primera columna como los valores de Ca y lo igualamos al despeje\n",
        "    # del documento anexo\n",
        "    [0, Cb, 4*Co]] #la segunda columna y le incertamos los valores de cb para igualarlos al Co teniendo en cuenta que está igualado a 4 veces Co\n",
        "\n",
        "\n",
        "result = gauss_jordan(matrix)\n",
        "for row in result:\n",
        "    print(row)\n"
      ]
    },
    {
      "cell_type": "code",
      "source": [],
      "metadata": {
        "id": "zU1mo0oYrAky"
      },
      "execution_count": null,
      "outputs": []
    }
  ]
}