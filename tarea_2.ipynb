{
  "nbformat": 4,
  "nbformat_minor": 0,
  "metadata": {
    "colab": {
      "provenance": [],
      "authorship_tag": "ABX9TyMIUHLt2a6PxGknM8xQ8CVS",
      "include_colab_link": true
    },
    "kernelspec": {
      "name": "python3",
      "display_name": "Python 3"
    },
    "language_info": {
      "name": "python"
    }
  },
  "cells": [
    {
      "cell_type": "markdown",
      "metadata": {
        "id": "view-in-github",
        "colab_type": "text"
      },
      "source": [
        "<a href=\"https://colab.research.google.com/github/anacasicande/Modelamiento/blob/main/tarea_2.ipynb\" target=\"_parent\"><img src=\"https://colab.research.google.com/assets/colab-badge.svg\" alt=\"Open In Colab\"/></a>"
      ]
    },
    {
      "cell_type": "code",
      "source": [
        "import sympy as sp\n",
        "import numpy as np\n",
        "\n",
        "\n",
        "P = 9.4573  # Presión en bar\n",
        "T = 350.0   # Temperatura en K\n",
        "R = 0.08314  # Constante de los gases en J/mol·K (convertir después a L·bar/mol·K)\n",
        "\n",
        "# Propiedades críticas del n-butano\n",
        "Tc = 425.2  # Temperatura crítica en K\n",
        "Pc = 37.96  # Presión crítica en bar\n",
        "tr = T / Tc  # Temperatura reducida\n",
        "pr = P / Pc  # Presión reducida\n",
        "Z = sp.Symbol('Z')  # Creo una variable simbolica para poder derivar usando la funcion diff\n",
        "\n",
        "# Parámetros de la ecuación de Redlich-Kwong\n",
        "q = (0.42748 / 0.08664) * (tr**(-3/2))  #  Formula de q que usa los valores\n",
        "b = ((0.08664 * pr )/ tr)\n",
        "\n",
        "# Función para Z_vapor usando Redlich-Kwong\n",
        "def Rk_vapor(Z):  # Defino Rk_vapor como una funcion que recibe de parametros una Z_vapor\n",
        "    return Z - (1 + b - q * b * ((Z - b) / (Z * (Z + b))))  # Retorna la ecuacion de Rk_vapor\n",
        "\n",
        "# Derivada de la función Z_vapor\n",
        "def dRk_vapor(Z_value):  # Defino dRk_vapor como una funcion que recibe de parametros una variable simbolica\n",
        "    derivadaV = sp.diff(Rk_vapor(Z), Z)  # Derivo usando la funcion sp.diff que recibe como parametros la funcion a derivar y una variable simbolica\n",
        "    return derivadaV.subs(Z, Z_value).evalf()  #  Retorna la derivada evaluada en el valor \"Z\"\n",
        "\n",
        "# Función para Z_liquid usando Redlich-Kwong\n",
        "def Rk_liquid(Z):  # Defino Rk_liquid como una funcion que recibe de parametros una Z_liquid\n",
        "    return Z - (b + Z * (Z + b) * ((1 + b - Z) / (q * b)))  # Retorna la ecuacion de Rk_liquid\n",
        "\n",
        "# Derivada de la función Z_liquid\n",
        "def dRk_liquid(Z_value):  # Defino dRk_liquid como una funcion que recibe de parametros una variable simbolica\n",
        "    derivadaL = sp.diff(Rk_liquid(Z), Z)  # Derivo usando la funcion sp.diff que recibe como parametros la funcion a derivar y una variable simbolica\n",
        "    return derivadaL.subs(Z, Z_value).evalf()  #  Retorna la derivada evaluada en el valor \"Z\"\n",
        "\n",
        "# Método de Newton-Raphson\n",
        "import numpy as np\n",
        "\n",
        "def newton_raphson(func, func_prime, Z, tol=1e-10, max_iter=200):\n",
        "    x = Z\n",
        "    error = 1\n",
        "    it = 0\n",
        "\n",
        "    while error > tol and it < max_iter:\n",
        "        try:\n",
        "            fx = func(x)\n",
        "            fpx = func_prime(x)\n",
        "\n",
        "            if abs(fpx) < tol:\n",
        "                print(\"La derivada es muy pequeña, no se puede continuar\")\n",
        "                return None\n",
        "\n",
        "            # Fórmula de Newton-Raphson\n",
        "            x_new = x - fx / fpx\n",
        "            error = np.abs(fx / fpx)\n",
        "            print(f\"Iteración {it}: x = {x_new}, error = {error}\")\n",
        "\n",
        "            # Verificar la convergencia\n",
        "            if abs(x_new - x) < tol:\n",
        "                print(f\"Convergió en la iteración {it}\")\n",
        "                return x_new\n",
        "\n",
        "            # Actualizar x para la siguiente iteración\n",
        "            x = x_new\n",
        "            it += 1\n",
        "\n",
        "        except ZeroDivisionError:\n",
        "            print(\"División por cero en la iteración\", it)\n",
        "            return None\n",
        "\n",
        "    if it == max_iter:\n",
        "        print(\"No converge después del número máximo de iteraciones\")\n",
        "        return False\n",
        "    else:\n",
        "        return x\n",
        "\n",
        "\n",
        "\n",
        "\n",
        "\n",
        "# Estimaciones iniciales para los factores de compresibilidad Z\n",
        "Z_guess_vapor = 1  # # El libro de Smith, Van Ness sugiere inicializar Z en 1 para vapor saturado.\n",
        "Z_guess_liquid = 0.005  # Aproximación para el líquido\n",
        "\n",
        "# Calcular Z usando Newton-Raphson\n",
        "Z_vapor = newton_raphson(Rk_vapor, dRk_vapor, Z_guess_vapor)\n",
        "Z_liquid = newton_raphson(Rk_liquid, dRk_liquid, Z_guess_liquid)\n",
        "\n",
        "# Convertir Z a volúmenes molares Vm (en L/mol) y luego a cm^3/mol\n",
        "Vm_vapor_cm3 = Z_vapor * R * T / P *1000 if Z_vapor else None\n",
        "Vm_liquid_cm3 = Z_liquid * R * T / P * 1000  if Z_liquid else None\n",
        "\n",
        "Z_vapor, Z_liquid, Vm_vapor_cm3, Vm_liquid_cm3\n",
        "\n"
      ],
      "metadata": {
        "id": "IzpP3UmtIz1g",
        "outputId": "dcb98c04-0aa7-4d0a-8f30-e6b55ccc1db0",
        "colab": {
          "base_uri": "https://localhost:8080/"
        }
      },
      "execution_count": 9,
      "outputs": [
        {
          "output_type": "stream",
          "name": "stdout",
          "text": [
            "Iteración 0: x = 0.836335012891233, error = 0.163664987108767\n",
            "Iteración 1: x = 0.830364789487029, error = 0.00597022340420460\n",
            "Iteración 2: x = 0.830353561610826, error = 0.0000112278762026935\n",
            "Iteración 3: x = 0.830353561570580, error = 4.02459783225915E-11\n",
            "Convergió en la iteración 3\n",
            "Iteración 0: x = 0.0331227783871731, error = 0.0281227783871731\n",
            "Iteración 1: x = 0.0421987232815132, error = 0.00907594489434009\n",
            "Iteración 2: x = 0.0432902378155151, error = 0.00109151453400194\n",
            "Iteración 3: x = 0.0433061338757576, error = 0.0000158960602424895\n",
            "Iteración 4: x = 0.0433061372400761, error = 3.36431842542168E-9\n",
            "Iteración 5: x = 0.0433061372400762, error = 1.28765749305476E-16\n",
            "Convergió en la iteración 5\n"
          ]
        },
        {
          "output_type": "execute_result",
          "data": {
            "text/plain": [
              "(0.830353561570580, 0.0433061372400762, 2554.90026626440, 133.247891845345)"
            ]
          },
          "metadata": {},
          "execution_count": 9
        }
      ]
    },
    {
      "cell_type": "code",
      "source": [],
      "metadata": {
        "id": "XoBhi9_pEd4U"
      },
      "execution_count": null,
      "outputs": []
    }
  ]
}