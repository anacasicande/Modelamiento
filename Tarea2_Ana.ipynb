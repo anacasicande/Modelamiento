{
  "nbformat": 4,
  "nbformat_minor": 0,
  "metadata": {
    "colab": {
      "provenance": [],
      "authorship_tag": "ABX9TyNzFFu0pnK0BLnO+0rzssdA",
      "include_colab_link": true
    },
    "kernelspec": {
      "name": "python3",
      "display_name": "Python 3"
    },
    "language_info": {
      "name": "python"
    }
  },
  "cells": [
    {
      "cell_type": "markdown",
      "metadata": {
        "id": "view-in-github",
        "colab_type": "text"
      },
      "source": [
        "<a href=\"https://colab.research.google.com/github/anacasicande/Modelamiento/blob/main/Tarea2_Ana.ipynb\" target=\"_parent\"><img src=\"https://colab.research.google.com/assets/colab-badge.svg\" alt=\"Open In Colab\"/></a>"
      ]
    },
    {
      "cell_type": "code",
      "execution_count": 7,
      "metadata": {
        "colab": {
          "base_uri": "https://localhost:8080/"
        },
        "id": "5MnMWLCEjp9S",
        "outputId": "270d0052-4ada-4444-c4ba-c47ba71645d1"
      },
      "outputs": [
        {
          "output_type": "stream",
          "name": "stdout",
          "text": [
            "Converge en la iteración 11\n",
            "El volumen molar del vapor saturado es: 3091.227124 cm^3/mol\n",
            "Converge en la iteración 4\n",
            "El volumen molar del líquido saturado es: -0.000000 cm^3/mol\n"
          ]
        }
      ],
      "source": [
        "import numpy as np\n",
        "#Primero importamos la librería que se va a utilizar, en este caso Numpy que será utilizada para facilitar el uso de ciertas ecuaciones.\n",
        "#Luego definimos las variables que serán utilizadas a lo largo de todo el código\n",
        "\n",
        "# Constantes\n",
        "R = 0.08314  # bar·L/(mol·K), constante de los gases\n",
        "T = 350  # K, temperatura\n",
        "P = 9.4573  # bar, presión de vapor saturado\n",
        "T_c = 425.1  # K, temperatura crítica del n-butano\n",
        "P_c = 37.96  # bar, presión crítica del n-butano\n",
        "\n",
        "T_r= T/T_c\n",
        "P_r=P/P_c\n",
        "Psi= 0.42748\n",
        "Omega= 0.08664\n",
        "# Definimos los valores que serán utilizados para la ecuación de Redlich-Kwong\n",
        "a =(Psi * (T_r**(-1/2))/(Omega*T_r))\n",
        "b = Omega *(P_r/T_r)\n",
        "\n",
        "# Definir la función Redlich-Kwong\n",
        "def f(RK):\n",
        "    return (R * T) / (RK - b) - (a / (RK * (RK + b) * np.sqrt(T))) - P\n",
        "\n",
        "# Definir la derivada de la ecuación Redlich-Kwong\n",
        "def f_prime(RK):\n",
        "    term1 = -(R * T) / (RK - b)**2\n",
        "    term2 = (a * (2 * RK + b)) / (RK**2 * (RK+ b)**2 * np.sqrt(T))\n",
        "    return term1 - term2\n",
        "\n",
        "# Método de Newton-Raphson\n",
        "def newton_raphson(x0, tol=1e-6, max_iter=1000):\n",
        "    x = x0\n",
        "    for i in range(max_iter):\n",
        "        fx = f(x)\n",
        "        fpx = f_prime(x)\n",
        "\n",
        "        if abs(fpx) < 1e-8:\n",
        "            print(\"La derivada es muy pequeña, no se puede continuar\")\n",
        "            return None\n",
        "\n",
        "        # Fórmula de Newton-Raphson\n",
        "        x_new = x - fx / fpx\n",
        "\n",
        "        # Verificar la convergencia\n",
        "        if abs(x_new - x) < tol:\n",
        "            print(f\"Converge en la iteración {i+1}\")\n",
        "            return x_new\n",
        "\n",
        "        x = x_new\n",
        "\n",
        "    print(\"No converge después del número máximo de iteraciones\")\n",
        "    return None\n",
        "\n",
        "# Valores iniciales para la fase vapor y la fase líquida\n",
        "V_vapor_initial = 0.2  # Volumen inicial de vapor saturado (en L/mol)\n",
        "V_liquid_initial = 0.005  # Volumen inicial de líquido saturado (en L/mol)\n",
        "\n",
        "# Llamar al método de Newton-Raphson para vapor saturado\n",
        "V_vapor = newton_raphson(V_vapor_initial)*1000\n",
        "if V_vapor is not None:\n",
        "    print(f\"El volumen molar del vapor saturado es: {V_vapor:.6f} cm^3/mol\")\n",
        "\n",
        "# Llamar al método de Newton-Raphson para líquido saturado\n",
        "V_liquid = newton_raphson(V_liquid_initial)*1000\n",
        "if V_liquid is not None:\n",
        "    print(f\"El volumen molar del líquido saturado es: {V_liquid:.6f} cm^3/mol\")"
      ]
    },
    {
      "cell_type": "code",
      "source": [],
      "metadata": {
        "id": "hiJ4jjzCxHDf"
      },
      "execution_count": null,
      "outputs": []
    }
  ]
}