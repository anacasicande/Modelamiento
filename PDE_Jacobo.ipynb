{
  "nbformat": 4,
  "nbformat_minor": 0,
  "metadata": {
    "colab": {
      "provenance": [],
      "include_colab_link": true
    },
    "kernelspec": {
      "name": "python3",
      "display_name": "Python 3"
    },
    "language_info": {
      "name": "python"
    }
  },
  "cells": [
    {
      "cell_type": "markdown",
      "metadata": {
        "id": "view-in-github",
        "colab_type": "text"
      },
      "source": [
        "<a href=\"https://colab.research.google.com/github/anacasicande/Modelamiento/blob/main/PDE_Jacobo.ipynb\" target=\"_parent\"><img src=\"https://colab.research.google.com/assets/colab-badge.svg\" alt=\"Open In Colab\"/></a>"
      ]
    },
    {
      "cell_type": "code",
      "source": [
        "import numpy as np\n",
        "from scipy.integrate import solve_ivp\n",
        "import matplotlib.pyplot as plt\n",
        "\n",
        "# Parámetros\n",
        "L = 1          # longitud del dominio\n",
        "alpha = 0.01   # coeficiente de difusividad térmica\n",
        "Nx = 50        # número de puntos en el espacio\n",
        "Nt = 100       # número de puntos en el tiempo\n",
        "dx = L / (Nx - 1)  # espacio entre puntos en la dirección x\n",
        "x = np.linspace(0, L, Nx)  # arreglo de puntos x\n",
        "t = np.linspace(0, 1, Nt)  # arreglo de puntos t\n",
        "\n",
        "# Condiciones iniciales y de frontera\n",
        "T_outside = 35  # Temperatura fuera del domo (°C)\n",
        "T_inside = 31   # Temperatura dentro del domo (°C)\n",
        "u0 = np.full(Nx, T_inside)  # Inicialmente todo el interior a 31°C\n",
        "u0[0] = T_outside  # Frontera izquierda (Dirichlet)\n",
        "u0[-1] = T_outside  # Frontera derecha (Dirichlet)\n",
        "\n",
        "# Definición de la ecuación de calor\n",
        "def heat_equation(t, u):\n",
        "    dudt = np.zeros_like(u)\n",
        "    dudt[1:-1] = alpha * (u[:-2] - 2*u[1:-1] + u[2:]) / dx**2\n",
        "    return dudt\n",
        "\n",
        "# Resolver la EDP\n",
        "sol = solve_ivp(heat_equation, [t[0], t[-1]], u0, t_eval=t, method='RK45')\n",
        "\n",
        "# Gráfica de la solución\n",
        "for i in range(0, Nt, 10):  # Graficar cada 10 pasos de tiempo\n",
        "    plt.plot(x, sol.y[:, i], label=f't = {t[i]:.2f}')\n",
        "\n",
        "plt.title('Evolución de la temperatura u(x, t) con el tiempo')\n",
        "plt.xlabel('x')\n",
        "plt.ylabel('Temperatura (°C)')\n",
        "plt.legend()\n",
        "plt.show()\n"
      ],
      "metadata": {
        "id": "FLXVoAUJBbbf"
      },
      "execution_count": null,
      "outputs": []
    }
  ]
}