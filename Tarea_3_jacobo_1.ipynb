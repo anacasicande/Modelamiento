{
  "nbformat": 4,
  "nbformat_minor": 0,
  "metadata": {
    "colab": {
      "provenance": [],
      "authorship_tag": "ABX9TyPk/PjyCyNHzJYS5to0u/F3",
      "include_colab_link": true
    },
    "kernelspec": {
      "name": "python3",
      "display_name": "Python 3"
    },
    "language_info": {
      "name": "python"
    }
  },
  "cells": [
    {
      "cell_type": "markdown",
      "metadata": {
        "id": "view-in-github",
        "colab_type": "text"
      },
      "source": [
        "<a href=\"https://colab.research.google.com/github/anacasicande/Modelamiento/blob/main/Tarea_3_jacobo_1.ipynb\" target=\"_parent\"><img src=\"https://colab.research.google.com/assets/colab-badge.svg\" alt=\"Open In Colab\"/></a>"
      ]
    },
    {
      "cell_type": "code",
      "execution_count": 35,
      "metadata": {
        "id": "xSCUg8exXvYP"
      },
      "outputs": [],
      "source": [
        "import numpy as np\n",
        "#datos\n",
        "Reflux_ratio=2.5 # L/D\n",
        "flow_rate=1000 #mol/h\n",
        "z1=0.06\n",
        "z2=0.17\n",
        "z3=0.22\n",
        "z4=0.20\n",
        "z5=0.35\n",
        "t2=140 # farenheit\n",
        "t3=150 # farenheit\n",
        "t4=160 # farenheit\n",
        "t5=170 # farenheit\n",
        "t6=180 # farenheit\n",
        "t7=190 # farenheit\n",
        "t8=200 # farenheit\n",
        "t9=210 # farenheit\n",
        "t10=220 # farenheit\n",
        "t11=230 # farenheit\n",
        "#constantes para las 5 especies\n",
        "a1=0.7\n",
        "a2=2.21\n",
        "a3=1.5\n",
        "a4=0.86\n",
        "a5=0.71\n",
        "b1=0.003\n",
        "b2=0.0195\n",
        "b3=-0.016\n",
        "b4=-0.0097\n",
        "b5=-0.0087\n",
        "y1=0.000065\n",
        "y2=0.000090\n",
        "y3=0.000080\n",
        "y4=0.000046\n",
        "y5=0.000042\n",
        "a = np.array([0.7, 2.21, 1.5, 0.86, 0.71])\n",
        "b = np.array([0.003, 0.0195, -0.016, -0.0097, -0.0087])\n",
        "T = np.array([0,140, 150, 160, 170, 180, 190, 200, 210, 220, 230])\n",
        "z_F = np.array([0.06, 0.17, 0.22, 0.20, 0.35])\n",
        "y = np.array([0.000065, 0.000090, 0.000080, 0.000046, 0.000042])\n"
      ]
    },
    {
      "cell_type": "code",
      "source": [
        "def calculo_k(T, a, b, y):\n",
        "\n",
        "    K = np.zeros((len(T), len(a)))\n",
        "\n",
        "\n",
        "    for i in range(1, len(T)):\n",
        "        for k in range(len(a)):\n",
        "            # Usamos la fórmula K_{i,k} = a_k - b_k * T_i + y_k * T_i^2\n",
        "            K[i, k] = a[k] - b[k] * T[i] + y[k] * T[i]**2\n",
        "\n",
        "\n",
        "    for i in range(1, len(T)):\n",
        "        for k in range(len(a)):\n",
        "            print(f\"Etapa {i+1}, Componente {k+1}: K = {K[i, k]:.4f}\")\n",
        "\n",
        "    return K\n",
        "k=calculo_k(T, a, b, y)"
      ],
      "metadata": {
        "colab": {
          "base_uri": "https://localhost:8080/"
        },
        "id": "nqQqY19KNkzR",
        "outputId": "b13d5343-e02d-452c-c468-98bd480a1d1a"
      },
      "execution_count": 36,
      "outputs": [
        {
          "output_type": "stream",
          "name": "stdout",
          "text": [
            "Etapa 2, Componente 1: K = 1.5540\n",
            "Etapa 2, Componente 2: K = 1.2440\n",
            "Etapa 2, Componente 3: K = 5.3080\n",
            "Etapa 2, Componente 4: K = 3.1196\n",
            "Etapa 2, Componente 5: K = 2.7512\n",
            "Etapa 3, Componente 1: K = 1.7125\n",
            "Etapa 3, Componente 2: K = 1.3100\n",
            "Etapa 3, Componente 3: K = 5.7000\n",
            "Etapa 3, Componente 4: K = 3.3500\n",
            "Etapa 3, Componente 5: K = 2.9600\n",
            "Etapa 4, Componente 1: K = 1.8840\n",
            "Etapa 4, Componente 2: K = 1.3940\n",
            "Etapa 4, Componente 3: K = 6.1080\n",
            "Etapa 4, Componente 4: K = 3.5896\n",
            "Etapa 4, Componente 5: K = 3.1772\n",
            "Etapa 5, Componente 1: K = 2.0685\n",
            "Etapa 5, Componente 2: K = 1.4960\n",
            "Etapa 5, Componente 3: K = 6.5320\n",
            "Etapa 5, Componente 4: K = 3.8384\n",
            "Etapa 5, Componente 5: K = 3.4028\n",
            "Etapa 6, Componente 1: K = 2.2660\n",
            "Etapa 6, Componente 2: K = 1.6160\n",
            "Etapa 6, Componente 3: K = 6.9720\n",
            "Etapa 6, Componente 4: K = 4.0964\n",
            "Etapa 6, Componente 5: K = 3.6368\n",
            "Etapa 7, Componente 1: K = 2.4765\n",
            "Etapa 7, Componente 2: K = 1.7540\n",
            "Etapa 7, Componente 3: K = 7.4280\n",
            "Etapa 7, Componente 4: K = 4.3636\n",
            "Etapa 7, Componente 5: K = 3.8792\n",
            "Etapa 8, Componente 1: K = 2.7000\n",
            "Etapa 8, Componente 2: K = 1.9100\n",
            "Etapa 8, Componente 3: K = 7.9000\n",
            "Etapa 8, Componente 4: K = 4.6400\n",
            "Etapa 8, Componente 5: K = 4.1300\n",
            "Etapa 9, Componente 1: K = 2.9365\n",
            "Etapa 9, Componente 2: K = 2.0840\n",
            "Etapa 9, Componente 3: K = 8.3880\n",
            "Etapa 9, Componente 4: K = 4.9256\n",
            "Etapa 9, Componente 5: K = 4.3892\n",
            "Etapa 10, Componente 1: K = 3.1860\n",
            "Etapa 10, Componente 2: K = 2.2760\n",
            "Etapa 10, Componente 3: K = 8.8920\n",
            "Etapa 10, Componente 4: K = 5.2204\n",
            "Etapa 10, Componente 5: K = 4.6568\n",
            "Etapa 11, Componente 1: K = 3.4485\n",
            "Etapa 11, Componente 2: K = 2.4860\n",
            "Etapa 11, Componente 3: K = 9.4120\n",
            "Etapa 11, Componente 4: K = 5.5244\n",
            "Etapa 11, Componente 5: K = 4.9328\n"
          ]
        }
      ]
    },
    {
      "cell_type": "code",
      "source": [
        "import numpy as np\n",
        "\n",
        "def calcular_A(v, F, D):\n",
        "    # Número de etapas o componentes\n",
        "    N = len(F)\n",
        "\n",
        "    # Inicializamos el array para los resultados de a_j\n",
        "    A = np.zeros(N)\n",
        "\n",
        "    # Calcular a_j para cada etapa usando la fórmula\n",
        "    for j in range(1,N):\n",
        "        # Suma de (F_i - D_i) solo para las etapas anteriores a j\n",
        "        suma_F_D = np.sum(F[:j] - D[:j])\n",
        "\n",
        "        # Calcular a_j\n",
        "        A[j] = v + suma_F_D\n",
        "\n",
        "    return A\n",
        "\n",
        "# Valores de v_j para cada etapa o componente\n",
        "v = 1750  # Valor fijo para todas las etapas\n",
        "\n",
        "# Flujos de entrada (F_i) y salida (D_i) para cada etapa\n",
        "F = np.array([0, 0, 0, 0, 1000, 0, 0, 0, 0, 0])  # Flujos de entrada\n",
        "D = np.array([500, 0, 0, 0, 0, 0, 0, 0, 0, 0])  # Flujos de salida\n",
        "\n",
        "# Llamar a la función y obtener los valores de a_j\n",
        "A = calcular_A(v, F, D)\n",
        "\n",
        "# Imprimir los resultados\n",
        "for j in range(len(A)):\n",
        "    print(f\"Etapa {j+1}: a = {a[j]:.4f}\")\n",
        "\n"
      ],
      "metadata": {
        "colab": {
          "base_uri": "https://localhost:8080/"
        },
        "id": "QqFh04mgUttj",
        "outputId": "2c6ccf9b-2e1a-4766-a4c2-fb00aa758cb8"
      },
      "execution_count": 34,
      "outputs": [
        {
          "output_type": "stream",
          "name": "stdout",
          "text": [
            "Etapa 1: a = 0.0000\n",
            "Etapa 2: a = 1250.0000\n",
            "Etapa 3: a = 1250.0000\n",
            "Etapa 4: a = 1250.0000\n",
            "Etapa 5: a = 1250.0000\n",
            "Etapa 6: a = 2250.0000\n",
            "Etapa 7: a = 2250.0000\n",
            "Etapa 8: a = 2250.0000\n",
            "Etapa 9: a = 2250.0000\n",
            "Etapa 10: a = 2250.0000\n"
          ]
        }
      ]
    },
    {
      "cell_type": "code",
      "source": [
        "\n"
      ],
      "metadata": {
        "colab": {
          "base_uri": "https://localhost:8080/"
        },
        "id": "tVUJfOQTXlWB",
        "outputId": "4a205c54-b606-4945-e7ac-83205241c770"
      },
      "execution_count": 39,
      "outputs": [
        {
          "output_type": "stream",
          "name": "stdout",
          "text": [
            "Etapa 1: B = -2250.0000\n",
            "Etapa 2: B = -27556.8750\n",
            "Etapa 3: B = -29517.4000\n",
            "Etapa 4: B = -31590.9750\n",
            "Etapa 5: B = -33777.6000\n",
            "Etapa 6: B = -37077.2750\n",
            "Etapa 7: B = -39490.0000\n",
            "Etapa 8: B = -42015.7750\n",
            "Etapa 9: B = -44654.6000\n",
            "Etapa 10: B = -45656.4750\n",
            "Array completo de B_j: [ -2250.    -27556.875 -29517.4   -31590.975 -33777.6   -37077.275\n",
            " -39490.    -42015.775 -44654.6   -45656.475]\n"
          ]
        }
      ]
    },
    {
      "cell_type": "code",
      "source": [
        "def gaussian_elimination(matrix):\n",
        "    rows = len(matrix)\n",
        "    cols = len(matrix[0])\n",
        "\n",
        "    for i in range(min(rows, cols)):\n",
        "        # Pivote parcial, busca el elemento máximo en la columna i\n",
        "        max_row = max(range(i, rows), key=lambda x: abs(matrix[x][i]))\n",
        "        matrix[i], matrix[max_row] = matrix[max_row], matrix[i]\n",
        "\n",
        "        if matrix[i][i] == 0:\n",
        "            # La matriz es singular o casi singular\n",
        "            raise ValueError(\"La matriz es singular.\")\n",
        "\n",
        "        # Hace ceros debajo del pivote\n",
        "        for j in range(i + 1, rows):\n",
        "            factor = matrix[j][i] / matrix[i][i]\n",
        "            for k in range(i + 1, cols):\n",
        "                matrix[j][k] -= factor * matrix[i][k]\n",
        "            matrix[j][i] = 0\n",
        "\n",
        "    return matrix"
      ],
      "metadata": {
        "id": "XZSXIrnqNjxo"
      },
      "execution_count": null,
      "outputs": []
    }
  ]
}