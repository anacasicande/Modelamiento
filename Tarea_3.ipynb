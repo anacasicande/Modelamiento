{
  "nbformat": 4,
  "nbformat_minor": 0,
  "metadata": {
    "colab": {
      "provenance": [],
      "authorship_tag": "ABX9TyOylgpaLC2olZLkvRrF1nWI",
      "include_colab_link": true
    },
    "kernelspec": {
      "name": "python3",
      "display_name": "Python 3"
    },
    "language_info": {
      "name": "python"
    }
  },
  "cells": [
    {
      "cell_type": "markdown",
      "metadata": {
        "id": "view-in-github",
        "colab_type": "text"
      },
      "source": [
        "<a href=\"https://colab.research.google.com/github/anacasicande/Modelamiento/blob/main/Tarea_3.ipynb\" target=\"_parent\"><img src=\"https://colab.research.google.com/assets/colab-badge.svg\" alt=\"Open In Colab\"/></a>"
      ]
    },
    {
      "cell_type": "code",
      "execution_count": null,
      "metadata": {
        "id": "xSCUg8exXvYP"
      },
      "outputs": [],
      "source": [
        "#datos\n",
        "Reflux_ratio=2.5 # L/D\n",
        "flow_rate=1000 #mol/h\n",
        "z1=0.06\n",
        "z2=0.17\n",
        "z3=0.22\n",
        "z4=0.20\n",
        "z5=0.35\n",
        "t2=140 # farenheit\n",
        "t3=150 # farenheit\n",
        "t4=160 # farenheit\n",
        "t5=170 # farenheit\n",
        "t6=180 # farenheit\n",
        "t7=190 # farenheit\n",
        "t8=200 # farenheit\n",
        "t9=210 # farenheit\n",
        "t10=220 # farenheit\n",
        "t11=230 # farenheit\n",
        "#constantes para las 5 especies\n",
        "a1=0.7\n",
        "a2=2.21\n",
        "a3=1.5\n",
        "a4=0.86\n",
        "a5=0.71\n",
        "b1=0.003\n",
        "b2=0.0195\n",
        "b3=-0.016\n",
        "b4=-0.0097\n",
        "b5=-0.0087\n",
        "y1=0.000065\n",
        "y2=0.000090\n",
        "y3=0.000080\n",
        "y4=0.000046\n",
        "y5=0.000042\n"
      ]
    }
  ]
}