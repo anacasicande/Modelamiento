{
  "nbformat": 4,
  "nbformat_minor": 0,
  "metadata": {
    "colab": {
      "provenance": [],
      "include_colab_link": true
    },
    "kernelspec": {
      "name": "python3",
      "display_name": "Python 3"
    },
    "language_info": {
      "name": "python"
    }
  },
  "cells": [
    {
      "cell_type": "markdown",
      "metadata": {
        "id": "view-in-github",
        "colab_type": "text"
      },
      "source": [
        "<a href=\"https://colab.research.google.com/github/anacasicande/Modelamiento/blob/main/Tarea2_Ana.ipynb\" target=\"_parent\"><img src=\"https://colab.research.google.com/assets/colab-badge.svg\" alt=\"Open In Colab\"/></a>"
      ]
    },
    {
      "cell_type": "code",
      "execution_count": 2,
      "metadata": {
        "colab": {
          "base_uri": "https://localhost:8080/",
          "height": 211
        },
        "id": "5MnMWLCEjp9S",
        "outputId": "013b3f06-2255-4fd2-94ce-1703d994fd51"
      },
      "outputs": [
        {
          "output_type": "error",
          "ename": "NameError",
          "evalue": "name 'sp' is not defined",
          "traceback": [
            "\u001b[0;31m---------------------------------------------------------------------------\u001b[0m",
            "\u001b[0;31mNameError\u001b[0m                                 Traceback (most recent call last)",
            "\u001b[0;32m<ipython-input-2-5de57ad60e5a>\u001b[0m in \u001b[0;36m<cell line: 16>\u001b[0;34m()\u001b[0m\n\u001b[1;32m     14\u001b[0m \u001b[0mPsi\u001b[0m\u001b[0;34m=\u001b[0m \u001b[0;36m0.42748\u001b[0m\u001b[0;34m\u001b[0m\u001b[0;34m\u001b[0m\u001b[0m\n\u001b[1;32m     15\u001b[0m \u001b[0mOmega\u001b[0m\u001b[0;34m=\u001b[0m \u001b[0;36m0.08664\u001b[0m\u001b[0;34m\u001b[0m\u001b[0;34m\u001b[0m\u001b[0m\n\u001b[0;32m---> 16\u001b[0;31m \u001b[0mZ\u001b[0m\u001b[0;34m=\u001b[0m\u001b[0msp\u001b[0m\u001b[0;34m.\u001b[0m\u001b[0mSymbol\u001b[0m\u001b[0;34m(\u001b[0m\u001b[0;34m'Z'\u001b[0m\u001b[0;34m)\u001b[0m\u001b[0;34m\u001b[0m\u001b[0;34m\u001b[0m\u001b[0m\n\u001b[0m\u001b[1;32m     17\u001b[0m \u001b[0;31m# Definimos los valores que serán utilizados para la ecuación de Redlich-Kwong\u001b[0m\u001b[0;34m\u001b[0m\u001b[0;34m\u001b[0m\u001b[0m\n\u001b[1;32m     18\u001b[0m \u001b[0ma\u001b[0m \u001b[0;34m=\u001b[0m\u001b[0;34m(\u001b[0m\u001b[0mPsi\u001b[0m \u001b[0;34m*\u001b[0m \u001b[0;34m(\u001b[0m\u001b[0mT_r\u001b[0m\u001b[0;34m**\u001b[0m\u001b[0;34m(\u001b[0m\u001b[0;34m-\u001b[0m\u001b[0;36m1\u001b[0m\u001b[0;34m/\u001b[0m\u001b[0;36m2\u001b[0m\u001b[0;34m)\u001b[0m\u001b[0;34m)\u001b[0m\u001b[0;34m/\u001b[0m\u001b[0;34m(\u001b[0m\u001b[0mOmega\u001b[0m\u001b[0;34m*\u001b[0m\u001b[0mT_r\u001b[0m\u001b[0;34m)\u001b[0m\u001b[0;34m)\u001b[0m\u001b[0;34m\u001b[0m\u001b[0;34m\u001b[0m\u001b[0m\n",
            "\u001b[0;31mNameError\u001b[0m: name 'sp' is not defined"
          ]
        }
      ],
      "source": [
        "import numpy as np\n",
        "import sympy as sp\n",
        "#Primero importamos la librería que se va a utilizar, en este caso Numpy que será utilizada para facilitar el uso de ciertas ecuaciones.\n",
        "#Luego definimos las variables que serán utilizadas a lo largo de todo el código\n",
        "\n",
        "# Constantes\n",
        "R = 0.08314  # bar·L/(mol·K), constante de los gases\n",
        "T = 350  # K, temperatura\n",
        "P = 9.4573  # bar, presión de vapor saturado\n",
        "T_c = 425.1  # K, temperatura crítica del n-butano\n",
        "P_c = 37.96  # bar, presión crítica del n-butano\n",
        "\n",
        "T_r= T/T_c\n",
        "P_r=P/P_c\n",
        "Psi= 0.42748\n",
        "Omega= 0.08664\n",
        "Z=sp.Symbol('Z')\n",
        "# Definimos los valores que serán utilizados para la ecuación de Redlich-Kwong\n",
        "a =(Psi * (T_r**(-1/2))/(Omega*T_r))\n",
        "b = Omega *(P_r/T_r)\n",
        "\n",
        "# Definir la función Redlich-Kwong\n",
        "def f_VapRK(Z):\n",
        "    H=Z-(1+b-(b*a)*((Z-b)/(Z*(Z+b))))\n",
        "    return H\n",
        "#se hace la derivada de la funcion que encuentra los valores de z en Redlich-Kwong\n",
        "def f_dVapRK(Z_value):\n",
        "  devvapor= sp.diff(f_VapRK(Z),Z)\n",
        "  return devvapor.subs(Z,Z_value).evalf()\n",
        "\n",
        "# Definir la derivada de la ecuación Redlich-Kwong\n",
        "def f_LiqRK(Z):\n",
        "    Z=Z-(b+(Z*(Z+b)*((1+b+Z)/a*b)))\n",
        "    return Z\n",
        "\n",
        "def f_dLiqRK(Z_value):\n",
        "  devliq= sp.diff(f_LiqRK(Z),Z)\n",
        "  return devliq.subs(Z,Z_value).evalf()\n",
        "\n",
        "# Método de Newton-Raphson\n",
        "def newton_raphson(funV,funP,Z, tol=1e-6, max_iter=1000):\n",
        "    x = Z\n",
        "    for i in range(max_iter):\n",
        "        fx = funV(x)\n",
        "        fpx = funP(x)\n",
        "\n",
        "        if abs(fpx) < 1e-8:\n",
        "            print(\"La derivada es muy pequeña, no se puede continuar\")\n",
        "            return None\n",
        "\n",
        "        # Fórmula de Newton-Raphson\n",
        "        z_new = x - fx / fpx\n",
        "\n",
        "        # Verificar la convergencia\n",
        "        if abs(z_new - x) < tol:\n",
        "            print(f\"Converge en la iteración {i+1}\")\n",
        "            return z_new\n",
        "\n",
        "        x = z_new\n",
        "\n",
        "    print(\"No converge después del número máximo de iteraciones\")\n",
        "    return None\n",
        "\n",
        "# Valores iniciales para la fase vapor y la fase líquida\n",
        "Z_inicialvap = 0.2  # Volumen inicial de vapor saturado (en L/mol)\n",
        "Z_inicialliq = 0.005  # Volumen inicial de líquido saturado (en L/mol)\n",
        "\n",
        "# Llamar al método de Newton-Raphson para vapor saturado\n",
        "V_vapor = newton_raphson(f_VapRK, f_dVapRK, Z)*1000\n",
        "if V_vapor is not None:\n",
        "    print(f\"El volumen molar del vapor saturado es: {V_vapor:.6f} cm^3/mol\")\n",
        "\n",
        "# Llamar al método de Newton-Raphson para líquido saturado\n",
        "V_liquid = newton_raphson(V_liquid_initial)*1000\n",
        "if V_liquid is not None:\n",
        "    print(f\"El volumen molar del líquido saturado es: {V_liquid:.6f} cm^3/mol\")"
      ]
    },
    {
      "cell_type": "code",
      "source": [],
      "metadata": {
        "id": "hiJ4jjzCxHDf"
      },
      "execution_count": null,
      "outputs": []
    }
  ]
}