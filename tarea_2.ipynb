{
  "nbformat": 4,
  "nbformat_minor": 0,
  "metadata": {
    "colab": {
      "provenance": [],
      "authorship_tag": "ABX9TyNaxMungudk578xIxx+/goM",
      "include_colab_link": true
    },
    "kernelspec": {
      "name": "python3",
      "display_name": "Python 3"
    },
    "language_info": {
      "name": "python"
    }
  },
  "cells": [
    {
      "cell_type": "markdown",
      "metadata": {
        "id": "view-in-github",
        "colab_type": "text"
      },
      "source": [
        "<a href=\"https://colab.research.google.com/github/anacasicande/Modelamiento/blob/main/tarea_2.ipynb\" target=\"_parent\"><img src=\"https://colab.research.google.com/assets/colab-badge.svg\" alt=\"Open In Colab\"/></a>"
      ]
    },
    {
      "cell_type": "code",
      "execution_count": null,
      "metadata": {
        "id": "pHKbCKramIAx"
      },
      "outputs": [],
      "source": [
        "import math\n",
        "\n",
        "# Constantes dadas\n",
        "P = 9.4573  # Presión en bar\n",
        "T = 350.0   # Temperatura en K\n",
        "R = 0.08314  # Constante de los gases en bar·L/mol·K\n",
        "\n",
        "# Propiedades críticas del n-butano\n",
        "Tc = 425.2  # Temperatura crítica en K\n",
        "Pc = 37.96  # Presión crítica en bar\n",
        "\n",
        "# Parámetros de la ecuación de Redlich-Kwong\n",
        "a = 0.42748 * R**2 * Tc**2.5 / Pc\n",
        "b = 0.08664 * R * Tc / Pc\n",
        "\n",
        "# Definir la función de Redlich-Kwong y su derivada\n",
        "def f(Vm):\n",
        "    term1 = (R * T) / (Vm - b)\n",
        "    term2 = a / (math.sqrt(T) * Vm * (Vm + b))\n",
        "    return P - (term1 - term2)\n",
        "\n",
        "def f_prime(Vm):\n",
        "    term1 = -(R * T) / (Vm - b)**2\n",
        "    term2 = -a * (2 * Vm + b) / (math.sqrt(T) * Vm**2 * (Vm + b)**2)\n",
        "    return term1 + term2\n",
        "\n",
        "# Método de Newton-Raphson\n",
        "def newton_raphson(Vm_guess, tol=1e-6, max_iter=100):\n",
        "    Vm = Vm_guess\n",
        "    for i in range(max_iter):\n",
        "        f_val = f(Vm)\n",
        "        f_deriv = f_prime(Vm)\n",
        "        Vm_new = Vm - f_val / f_deriv\n",
        "        if abs(Vm_new - Vm) < tol:\n",
        "            return Vm_new\n",
        "        Vm = Vm_new\n",
        "    raise ValueError(\"El método de Newton-Raphson no convergió.\")\n",
        "\n",
        "# Estimaciones iniciales para los volúmenes molares\n",
        "Vm_guess_vapor = R * T / P  # Para el vapor\n",
        "Vm_guess_liquid = b  # Para el líquido (valor muy cercano a b)\n",
        "\n",
        "# Calcular los volúmenes molares\n",
        "Vm_vapor = newton_raphson(Vm_guess_vapor)\n",
        "Vm_liquid = newton_raphson(Vm_guess_liquid)\n",
        "\n",
        "print(f\"Volumen molar del vapor saturado: {Vm_vapor:.6f} L/mol\")\n",
        "print(f\"Volumen molar del líquido saturado: {Vm_liquid:.6f} L/mol\")"
      ]
    }
  ]
}