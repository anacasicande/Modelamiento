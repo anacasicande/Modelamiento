{
  "nbformat": 4,
  "nbformat_minor": 0,
  "metadata": {
    "colab": {
      "provenance": [],
      "authorship_tag": "ABX9TyOh91QHdWz4aSy76EVKyaWz",
      "include_colab_link": true
    },
    "kernelspec": {
      "name": "python3",
      "display_name": "Python 3"
    },
    "language_info": {
      "name": "python"
    }
  },
  "cells": [
    {
      "cell_type": "markdown",
      "metadata": {
        "id": "view-in-github",
        "colab_type": "text"
      },
      "source": [
        "<a href=\"https://colab.research.google.com/github/anacasicande/Modelamiento/blob/main/tarea_2_Jacobo_feldman.ipynb\" target=\"_parent\"><img src=\"https://colab.research.google.com/assets/colab-badge.svg\" alt=\"Open In Colab\"/></a>"
      ]
    },
    {
      "cell_type": "code",
      "source": [
        "import sympy as sp  # Importo sympy para poder derivar\n",
        "import numpy as np  # Importo numpy para poder evaluar\n",
        "\n",
        "\n",
        "P = 9.4573  # Presión en bar\n",
        "T = 350.0   # Temperatura en K\n",
        "R = 0.08314  # Constante de los gases en L·bar/mol·K\n",
        "\n",
        "# Propiedades críticas del n-butano\n",
        "Tc = 425.2  # Temperatura crítica en K\n",
        "Pc = 37.96  # Presión crítica en bar\n",
        "tr = T / Tc  # Temperatura reducida\n",
        "pr = P / Pc  # Presión reducida\n",
        "Z = sp.Symbol('Z')  # Creo una variable simbolica para poder derivar usando la funcion diff\n",
        "\n",
        "# Parámetros de la ecuación de Redlich-Kwong\n",
        "Ω = 0.08664  # Parámetro de la ecuación de Redlich-Kwong dado por el libro, tabla 3.1\n",
        "Ψ = 0.42748  # Parámetro de la ecuación de Redlich-Kwong dado por el libro, t=abla 3.1\n",
        "q = ( Ψ / Ω) * (tr**(-3/2))  #  Formula de q que usa los valores Ω y Ψ dada por el libro, ecuacion 3.51\n",
        "b = ((Ω * pr )/ tr)  # Formula de b que usa los valores Ω dada por el libro, ecuacion 3.50\n",
        "\n",
        "# Función para Z_vapor usando Redlich-Kwong\n",
        "def Rk_vapor(Z):  # Defino Rk_vapor como una funcion que recibe de parametros un valor numerico\n",
        "    return Z - (1 + b - q * b * ((Z - b) / (Z * (Z + b))))  # Retorna la ecuacion de Rk_vapor\n",
        "\n",
        "# Derivada de la función Z_vapor\n",
        "def dRk_vapor(Z_value):  # Defino dRk_vapor como una funcion que recibe de parametros una valor numerico\n",
        "    derivadaV = sp.diff(Rk_vapor(Z), Z)  # Derivo usando la funcion sp.diff que recibe como parametros la funcion a derivar y una variable simbolica\n",
        "    return derivadaV.subs(Z, Z_value).evalf()  #  con subs. se cambia la variable simbolica por un valor numerico, \"evalf\" es para evaluar la expresion simbolica y obtener un valor numerico y al final retorna la derivada de la funcion original para ser evaluada\n",
        "\n",
        "# Función para Z_liquid usando Redlich-Kwong\n",
        "def Rk_liquid(Z):  # Defino Rk_liquid como una funcion que recibe de parametros un valor numerico\n",
        "    return Z - (b + Z * (Z + b) * ((1 + b - Z) / (q * b)))  # Retorna la ecuacion de Rk_liquid\n",
        "\n",
        "# Derivada de la función Z_liquid\n",
        "def dRk_liquid(Z_value):  # Defino dRk_liquid como una funcion que recibe de parametros una valor numerico\n",
        "    derivadaL = sp.diff(Rk_liquid(Z), Z)  # Derivo usando la funcion sp.diff que recibe como parametros la funcion a derivar y una variable simbolica\n",
        "    return derivadaL.subs(Z, Z_value).evalf()  #  con subs. se cambia la variable simbolica por un valor numerico, \"evalf\" es para evaluar la expresion simbolica y obtener un valor numerico y al final retorna la derivada de la funcion original para ser evaluada\n",
        "\n",
        "# Implementación de Newton-Raphson\n",
        "def newton_raphson(func, func_prime, Z, tol=1e-10, max_iter=200):  # Defino newton_raphson como una funcion que recibe una funcion, la derivada de esta y un valor inicial. Tambien se ponen como parametros la tolerancia y el numero de iteraciones maximas.\n",
        "    x = Z  # Cambio la variable \"Z\" a x para mayor facilidad a la hora de escribir codigo\n",
        "    error = 1  # Defino error como 1\n",
        "    it = 0  # Defino iteraciones como 0 para empezar el conteo\n",
        "\n",
        "    while error > tol and it < max_iter:  # Mientras el error sea mayor a la tolerancia y las iteraciones sean menores a las maximas iteraciones puestas el ciclo \"while\" seguira corriendo\n",
        "        try:  # Intenta hacer lo siguiente\n",
        "            fx = func(x)  # Evalua la funcion\n",
        "            fpx = func_prime(x)  # Evalua la derivada de la funcion\n",
        "\n",
        "            if abs(fpx) < tol:  # Si la derivada es menor a la tolerancia no se puede contimuar\n",
        "                print(\"La derivada es muy pequeña, no se puede continuar\")  # Mensaje de error\n",
        "                return None  # Retorna None\n",
        "\n",
        "            # Fórmula de Newton-Raphson\n",
        "            x_new = x - fx / fpx  # Evalua la formula de Newton-Raphson\n",
        "            error = np.abs(fx / fpx)  # Evalua el error\n",
        "\n",
        "\n",
        "\n",
        "\n",
        "            # Verificar la convergencia\n",
        "            if abs(x_new - x) < tol:  # Si la diferencia entre x_new y x es menor a la tolerancia se encontro la convergencia\n",
        "                print(f\"Convergió en la iteración {it}\")  # Mensaje de convergencia\n",
        "                return x_new  # Retorna el nuevo valor de x\n",
        "\n",
        "\n",
        "            x = x_new  # Actualiza el valor de x\n",
        "            it += 1  # Incrementa el contador de iteraciones\n",
        "\n",
        "        except ZeroDivisionError:  # Si se produce un error de división por cero se rompe el \"try\"\n",
        "            print(\"División por cero en la iteración\", it)  # Mensaje de error\n",
        "            return None  # Retorna None\n",
        "\n",
        "    if it == max_iter:  # Si se llego al numero maximo de iteraciones se rompe el ciclo\n",
        "        print(\"No converge después del número máximo de iteraciones\")  # Mensaje de error\n",
        "        return None  # Retorna None\n",
        "    else:  # Si no se rompe el ciclo se retorna el valor de x\n",
        "        return x  # Retorna el valor de x\n",
        "\n",
        "\n",
        "\n",
        "\n",
        "\n",
        "# Estimaciones iniciales para los factores de compresibilidad Z\n",
        "Z_guess_vapor = 1  # # El libro de Smith, Van Ness sugiere inicializar Z en 1 para vapor saturado.\n",
        "Z_guess_liquid = 0.005  # Aproximación para el líquido\n",
        "\n",
        "# Calcular Z usando Newton-Raphson\n",
        "Z_vapor = newton_raphson(Rk_vapor, dRk_vapor, Z_guess_vapor)  # Evalua la funcion newton_raphson con la funcion Rk_vapor, la derivada de esta y la estimacion inicial para encontrar la Z de vapor\n",
        "Z_liquid = newton_raphson(Rk_liquid, dRk_liquid, Z_guess_liquid)  # Evalua la funcion newton_raphson con la funcion Rk_liquid, la derivada de esta y la estimacion inicial para encontrar la Z de liquid\n",
        "\n",
        "# Convertir Z a volúmenes molares Vm (en L/mol) y luego a cm^3/mol\n",
        "Vm_vapor_cm3 = Z_vapor * R * T / P*1000  if Z_vapor else None  # Evalua la formula para encontrar el volumen molar del vapor si Z_vapor es diferente a \"None\"\n",
        "Vm_liquid_cm3 = Z_liquid * R * T / P*1000   if Z_liquid else None  # Evalua la formula para encontrar el volumen molar del liquido si Z_liquid es diferente a \"None\"\n",
        "print(f\"Z_vapor: {Z_vapor}, Vm_vapor_cm3 = {Vm_vapor_cm3} cm^3/mol\")  # Imprime el valor de Z_vapor y Vm_vapor_cm3\n",
        "print(f\"Z_liquid: {Z_liquid}, Vm_liquid_cm3 = {Vm_liquid_cm3} cm^3/mol\")  # Imprime el valor de Z_liquid y Vm_liquid_cm3\n",
        "\n",
        "\n"
      ],
      "metadata": {
        "id": "IzpP3UmtIz1g",
        "outputId": "af1acbca-06bb-4ee3-904d-0264824e2da9",
        "colab": {
          "base_uri": "https://localhost:8080/"
        }
      },
      "execution_count": 25,
      "outputs": [
        {
          "output_type": "stream",
          "name": "stdout",
          "text": [
            "Convergió en la iteración 3\n",
            "Convergió en la iteración 5\n",
            "Z_vapor: 0.830353561570580, Vm_vapor_cm3 = 2554.90026626440 cm^3/mol\n",
            "Z_liquid: 0.0433061372400762, Vm_liquid_cm3 = 133.247891845345 cm^3/mol\n"
          ]
        }
      ]
    },
    {
      "cell_type": "code",
      "source": [],
      "metadata": {
        "id": "XoBhi9_pEd4U"
      },
      "execution_count": null,
      "outputs": []
    }
  ]
}