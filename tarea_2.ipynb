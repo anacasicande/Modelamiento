{
  "nbformat": 4,
  "nbformat_minor": 0,
  "metadata": {
    "colab": {
      "provenance": [],
      "authorship_tag": "ABX9TyN63f4rAVzoj1ylO8ShSUqh",
      "include_colab_link": true
    },
    "kernelspec": {
      "name": "python3",
      "display_name": "Python 3"
    },
    "language_info": {
      "name": "python"
    }
  },
  "cells": [
    {
      "cell_type": "markdown",
      "metadata": {
        "id": "view-in-github",
        "colab_type": "text"
      },
      "source": [
        "<a href=\"https://colab.research.google.com/github/anacasicande/Modelamiento/blob/main/tarea_2.ipynb\" target=\"_parent\"><img src=\"https://colab.research.google.com/assets/colab-badge.svg\" alt=\"Open In Colab\"/></a>"
      ]
    },
    {
      "cell_type": "code",
      "source": [
        "import numpy as np\n",
        "\n",
        "# Constantes dadas\n",
        "P = 9.4573  # Presión en bar\n",
        "T = 350.0   # Temperatura en K\n",
        "R = 0.08314  # Constante de los gases en bar·L/mol·K\n",
        "\n",
        "# Propiedades críticas del n-butano\n",
        "Tc = 425.2  # Temperatura crítica en K\n",
        "Pc = 37.96  # Presión crítica en bar\n",
        "\n",
        "# Parámetros de la ecuación de Redlich-Kwong\n",
        "a = 0.42748 * R**2 * Tc**2.5 / Pc\n",
        "b = 0.08664 * R * Tc / Pc\n",
        "\n",
        "# Definir la función de Redlich-Kwong y su derivada usando numpy\n",
        "def f(Vm):\n",
        "    term1 = (R * T) / (Vm - b)\n",
        "    term2 = a / (np.sqrt(T) * Vm * (Vm + b))\n",
        "    return P - (term1 - term2)\n",
        "\n",
        "def f_prime(Vm):\n",
        "    term1 = -(R * T) / (Vm - b)**2\n",
        "    term2 = -a * (2 * Vm + b) / (np.sqrt(T) * Vm**2 * (Vm + b)**2)\n",
        "    return term1 + term2\n",
        "\n",
        "# Método de Newton-Raphson\n",
        "def newton_raphson(Vm_guess, tol=1e-6, max_iter=100):\n",
        "    Vm = Vm_guess\n",
        "    for i in range(max_iter):\n",
        "        f_val = f(Vm)\n",
        "        f_deriv = f_prime(Vm)\n",
        "        Vm_new = Vm - f_val / f_deriv\n",
        "        if np.abs(Vm_new - Vm) < tol:\n",
        "            return Vm_new\n",
        "        Vm = Vm_new\n",
        "    raise ValueError(\"El método de Newton-Raphson no convergió.\")\n",
        "\n",
        "# Estimaciones iniciales para los volúmenes molares\n",
        "Vm_guess_vapor = R * T / P  # Para el vapor\n",
        "Vm_guess_liquid = b  # Para el líquido (valor muy cercano a b)\n",
        "\n",
        "# Calcular los volúmenes molares\n",
        "Vm_vapor = newton_raphson(Vm_guess_vapor)\n",
        "Vm_liquid = newton_raphson(Vm_guess_liquid)\n",
        "\n",
        "print(f\"Volumen molar del vapor saturado: {Vm_vapor:.6f} L/mol\")\n",
        "print(f\"Volumen molar del líquido saturado: {Vm_liquid:.6f} L/mol\")\n"
      ],
      "metadata": {
        "id": "9Mdk9jTToUtk",
        "outputId": "78faad17-1b3f-4f43-df36-43dcce059cc9",
        "colab": {
          "base_uri": "https://localhost:8080/",
          "height": 540
        }
      },
      "execution_count": 1,
      "outputs": [
        {
          "output_type": "stream",
          "name": "stderr",
          "text": [
            "<ipython-input-1-226ab3cb1e21>:24: RuntimeWarning: overflow encountered in scalar multiply\n",
            "  term2 = -a * (2 * Vm + b) / (np.sqrt(T) * Vm**2 * (Vm + b)**2)\n",
            "<ipython-input-1-226ab3cb1e21>:19: RuntimeWarning: overflow encountered in scalar multiply\n",
            "  term2 = a / (np.sqrt(T) * Vm * (Vm + b))\n",
            "<ipython-input-1-226ab3cb1e21>:23: RuntimeWarning: overflow encountered in scalar power\n",
            "  term1 = -(R * T) / (Vm - b)**2\n",
            "<ipython-input-1-226ab3cb1e21>:24: RuntimeWarning: overflow encountered in scalar power\n",
            "  term2 = -a * (2 * Vm + b) / (np.sqrt(T) * Vm**2 * (Vm + b)**2)\n",
            "<ipython-input-1-226ab3cb1e21>:33: RuntimeWarning: divide by zero encountered in scalar divide\n",
            "  Vm_new = Vm - f_val / f_deriv\n",
            "<ipython-input-1-226ab3cb1e21>:24: RuntimeWarning: invalid value encountered in scalar divide\n",
            "  term2 = -a * (2 * Vm + b) / (np.sqrt(T) * Vm**2 * (Vm + b)**2)\n"
          ]
        },
        {
          "output_type": "error",
          "ename": "ValueError",
          "evalue": "El método de Newton-Raphson no convergió.",
          "traceback": [
            "\u001b[0;31m---------------------------------------------------------------------------\u001b[0m",
            "\u001b[0;31mValueError\u001b[0m                                Traceback (most recent call last)",
            "\u001b[0;32m<ipython-input-1-226ab3cb1e21>\u001b[0m in \u001b[0;36m<cell line: 44>\u001b[0;34m()\u001b[0m\n\u001b[1;32m     42\u001b[0m \u001b[0;34m\u001b[0m\u001b[0m\n\u001b[1;32m     43\u001b[0m \u001b[0;31m# Calcular los volúmenes molares\u001b[0m\u001b[0;34m\u001b[0m\u001b[0;34m\u001b[0m\u001b[0m\n\u001b[0;32m---> 44\u001b[0;31m \u001b[0mVm_vapor\u001b[0m \u001b[0;34m=\u001b[0m \u001b[0mnewton_raphson\u001b[0m\u001b[0;34m(\u001b[0m\u001b[0mVm_guess_vapor\u001b[0m\u001b[0;34m)\u001b[0m\u001b[0;34m\u001b[0m\u001b[0;34m\u001b[0m\u001b[0m\n\u001b[0m\u001b[1;32m     45\u001b[0m \u001b[0mVm_liquid\u001b[0m \u001b[0;34m=\u001b[0m \u001b[0mnewton_raphson\u001b[0m\u001b[0;34m(\u001b[0m\u001b[0mVm_guess_liquid\u001b[0m\u001b[0;34m)\u001b[0m\u001b[0;34m\u001b[0m\u001b[0;34m\u001b[0m\u001b[0m\n\u001b[1;32m     46\u001b[0m \u001b[0;34m\u001b[0m\u001b[0m\n",
            "\u001b[0;32m<ipython-input-1-226ab3cb1e21>\u001b[0m in \u001b[0;36mnewton_raphson\u001b[0;34m(Vm_guess, tol, max_iter)\u001b[0m\n\u001b[1;32m     35\u001b[0m             \u001b[0;32mreturn\u001b[0m \u001b[0mVm_new\u001b[0m\u001b[0;34m\u001b[0m\u001b[0;34m\u001b[0m\u001b[0m\n\u001b[1;32m     36\u001b[0m         \u001b[0mVm\u001b[0m \u001b[0;34m=\u001b[0m \u001b[0mVm_new\u001b[0m\u001b[0;34m\u001b[0m\u001b[0;34m\u001b[0m\u001b[0m\n\u001b[0;32m---> 37\u001b[0;31m     \u001b[0;32mraise\u001b[0m \u001b[0mValueError\u001b[0m\u001b[0;34m(\u001b[0m\u001b[0;34m\"El método de Newton-Raphson no convergió.\"\u001b[0m\u001b[0;34m)\u001b[0m\u001b[0;34m\u001b[0m\u001b[0;34m\u001b[0m\u001b[0m\n\u001b[0m\u001b[1;32m     38\u001b[0m \u001b[0;34m\u001b[0m\u001b[0m\n\u001b[1;32m     39\u001b[0m \u001b[0;31m# Estimaciones iniciales para los volúmenes molares\u001b[0m\u001b[0;34m\u001b[0m\u001b[0;34m\u001b[0m\u001b[0m\n",
            "\u001b[0;31mValueError\u001b[0m: El método de Newton-Raphson no convergió."
          ]
        }
      ]
    }
  ]
}