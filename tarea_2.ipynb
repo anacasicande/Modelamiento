{
  "nbformat": 4,
  "nbformat_minor": 0,
  "metadata": {
    "colab": {
      "provenance": [],
      "authorship_tag": "ABX9TyM9fKCVjK7l2Dvd69gQ2HdW",
      "include_colab_link": true
    },
    "kernelspec": {
      "name": "python3",
      "display_name": "Python 3"
    },
    "language_info": {
      "name": "python"
    }
  },
  "cells": [
    {
      "cell_type": "markdown",
      "metadata": {
        "id": "view-in-github",
        "colab_type": "text"
      },
      "source": [
        "<a href=\"https://colab.research.google.com/github/anacasicande/Modelamiento/blob/main/tarea_2.ipynb\" target=\"_parent\"><img src=\"https://colab.research.google.com/assets/colab-badge.svg\" alt=\"Open In Colab\"/></a>"
      ]
    },
    {
      "cell_type": "code",
      "execution_count": 16,
      "metadata": {
        "id": "pHKbCKramIAx",
        "colab": {
          "base_uri": "https://localhost:8080/",
          "height": 332
        },
        "outputId": "daa51af3-a72a-4e24-a932-f008cfd4e3fd"
      },
      "outputs": [
        {
          "output_type": "error",
          "ename": "ValueError",
          "evalue": "El método de Newton-Raphson no convergió.",
          "traceback": [
            "\u001b[0;31m---------------------------------------------------------------------------\u001b[0m",
            "\u001b[0;31mValueError\u001b[0m                                Traceback (most recent call last)",
            "\u001b[0;32m<ipython-input-16-a99abada66ac>\u001b[0m in \u001b[0;36m<cell line: 54>\u001b[0;34m()\u001b[0m\n\u001b[1;32m     52\u001b[0m \u001b[0;34m\u001b[0m\u001b[0m\n\u001b[1;32m     53\u001b[0m \u001b[0;31m# Calcular los volúmenes molares\u001b[0m\u001b[0;34m\u001b[0m\u001b[0;34m\u001b[0m\u001b[0m\n\u001b[0;32m---> 54\u001b[0;31m \u001b[0mVm_vapor\u001b[0m \u001b[0;34m=\u001b[0m \u001b[0mnewton_raphson\u001b[0m\u001b[0;34m(\u001b[0m\u001b[0mVm_guess_vapor\u001b[0m\u001b[0;34m)\u001b[0m\u001b[0;34m\u001b[0m\u001b[0;34m\u001b[0m\u001b[0m\n\u001b[0m\u001b[1;32m     55\u001b[0m \u001b[0mVm_liquid\u001b[0m \u001b[0;34m=\u001b[0m \u001b[0mnewton_raphson\u001b[0m\u001b[0;34m(\u001b[0m\u001b[0mVm_guess_liquid\u001b[0m\u001b[0;34m,\u001b[0m\u001b[0mmax_iter\u001b[0m\u001b[0;34m=\u001b[0m\u001b[0;36m200\u001b[0m\u001b[0;34m)\u001b[0m\u001b[0;34m\u001b[0m\u001b[0;34m\u001b[0m\u001b[0m\n\u001b[1;32m     56\u001b[0m \u001b[0mVm_vapor_cm3\u001b[0m \u001b[0;34m=\u001b[0m \u001b[0mVm_vapor\u001b[0m \u001b[0;34m*\u001b[0m \u001b[0;36m1000\u001b[0m\u001b[0;34m\u001b[0m\u001b[0;34m\u001b[0m\u001b[0m\n",
            "\u001b[0;32m<ipython-input-16-a99abada66ac>\u001b[0m in \u001b[0;36mnewton_raphson\u001b[0;34m(Vm_guess, tol, max_iter)\u001b[0m\n\u001b[1;32m     45\u001b[0m         \u001b[0mVm\u001b[0m \u001b[0;34m=\u001b[0m \u001b[0mVm_new\u001b[0m\u001b[0;34m\u001b[0m\u001b[0;34m\u001b[0m\u001b[0m\n\u001b[1;32m     46\u001b[0m \u001b[0;34m\u001b[0m\u001b[0m\n\u001b[0;32m---> 47\u001b[0;31m     \u001b[0;32mraise\u001b[0m \u001b[0mValueError\u001b[0m\u001b[0;34m(\u001b[0m\u001b[0;34m\"El método de Newton-Raphson no convergió.\"\u001b[0m\u001b[0;34m)\u001b[0m\u001b[0;34m\u001b[0m\u001b[0;34m\u001b[0m\u001b[0m\n\u001b[0m\u001b[1;32m     48\u001b[0m \u001b[0;34m\u001b[0m\u001b[0m\n\u001b[1;32m     49\u001b[0m \u001b[0;31m# Estimaciones iniciales para los volúmenes molares\u001b[0m\u001b[0;34m\u001b[0m\u001b[0;34m\u001b[0m\u001b[0m\n",
            "\u001b[0;31mValueError\u001b[0m: El método de Newton-Raphson no convergió."
          ]
        }
      ],
      "source": [
        "import numpy as np\n",
        "\n",
        "# Constantes dadas\n",
        "P = 9.4573  # Presión en bar\n",
        "T = 350.0   # Temperatura en K\n",
        "R = 0.08314  # Constante de los gases en bar·L/mol·K\n",
        "\n",
        "# Propiedades críticas del n-butano\n",
        "Tc = 425.2  # Temperatura crítica en K\n",
        "Pc = 37.96  # Presión crítica en bar\n",
        "\n",
        "# Parámetros de la ecuación de Redlich-Kwong\n",
        "a = 0.42748 * R**2 * Tc**2.5 / Pc\n",
        "b = 0.08664 * R * Tc / Pc\n",
        "\n",
        "# Definir la función de Redlich-Kwong y su derivada usando numpy\n",
        "def f(Vm):\n",
        "    term1 = (R * T) / (Vm - b)\n",
        "    term2 = a / (np.sqrt(T) * Vm * (Vm + b))\n",
        "    return P - (term1 - term2)\n",
        "\n",
        "def f_prime(Vm):\n",
        "    term1 = -(R * T) / (Vm - b)**2\n",
        "    term2 = -a * (2 * Vm + b) / (np.sqrt(T) * Vm**2 * (Vm + b)**2)\n",
        "    return term1 + term2\n",
        "\n",
        "# Método de Newton-Raphson\n",
        "def newton_raphson(Vm_guess, tol=1e-6, max_iter=100):\n",
        "    Vm = Vm_guess\n",
        "    for i in range(max_iter):\n",
        "        f_val = f(Vm)\n",
        "        f_deriv = f_prime(Vm)\n",
        "\n",
        "        # Evitar división por cero o valores no definidos\n",
        "        if np.isclose(f_deriv,0,atol=1e-12):\n",
        "           Vm +=1e-6\n",
        "           continue\n",
        "\n",
        "        Vm_new = Vm - f_val / f_deriv\n",
        "\n",
        "        # Verificar convergencia\n",
        "        if np.abs(Vm_new - Vm) < tol:\n",
        "            return Vm_new\n",
        "\n",
        "        Vm = Vm_new\n",
        "\n",
        "    raise ValueError(\"El método de Newton-Raphson no convergió.\")\n",
        "\n",
        "# Estimaciones iniciales para los volúmenes molares\n",
        "Vm_guess_vapor = 2.555  # Para el vapor\n",
        "Vm_guess_liquid = 0.1333  # Para el líquido (valor muy cercano a b)\n",
        "\n",
        "# Calcular los volúmenes molares\n",
        "Vm_vapor = newton_raphson(Vm_guess_vapor)\n",
        "Vm_liquid = newton_raphson(Vm_guess_liquid,max_iter=200)\n",
        "Vm_vapor_cm3 = Vm_vapor * 1000\n",
        "Vm_liquid_cm3 = Vm_liquid * 1000\n",
        "\n",
        "# Imprimir los resultados\n",
        "print(\"Volumen molar del vapor:\", Vm_vapor_cm3)\n",
        "print(\"Volumen molar del líquido:\", Vm_liquid_cm3)\n"
      ]
    }
  ]
}