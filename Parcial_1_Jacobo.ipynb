{
  "nbformat": 4,
  "nbformat_minor": 0,
  "metadata": {
    "colab": {
      "provenance": [],
      "authorship_tag": "ABX9TyPPgx4zSKERWlBPAhAi2eyn",
      "include_colab_link": true
    },
    "kernelspec": {
      "name": "python3",
      "display_name": "Python 3"
    },
    "language_info": {
      "name": "python"
    }
  },
  "cells": [
    {
      "cell_type": "markdown",
      "metadata": {
        "id": "view-in-github",
        "colab_type": "text"
      },
      "source": [
        "<a href=\"https://colab.research.google.com/github/anacasicande/Modelamiento/blob/main/Parcial_1_Jacobo.ipynb\" target=\"_parent\"><img src=\"https://colab.research.google.com/assets/colab-badge.svg\" alt=\"Open In Colab\"/></a>"
      ]
    },
    {
      "cell_type": "code",
      "execution_count": 9,
      "metadata": {
        "colab": {
          "base_uri": "https://localhost:8080/"
        },
        "id": "APrzQOYgca6M",
        "outputId": "dbb9e075-beb4-4f7c-8f37-752695ecfd66"
      },
      "outputs": [
        {
          "output_type": "stream",
          "name": "stdout",
          "text": [
            "[1, 0, 0.2]\n",
            "[0, 1.0, 0.8]\n"
          ]
        }
      ],
      "source": [
        "\n",
        "#ecuaciones\n",
        "#cao=ca+cb\n",
        "#kc=cb/ca\n",
        "#datos\n",
        "c0=1 #valor de ca al inicio\n",
        "kc=4 #valor dado de la constante de equilibrio\n",
        "def gaussian_elimination(matrix): # se define la funcion para la eliminacion gaussiana\n",
        "    rows = len(matrix) # vuelve el numero de filas de la matriz\n",
        "    cols = len(matrix[0]) # vuelve el numero de columnas de la matriz\n",
        "\n",
        "    for i in range(min(rows, cols)): # bucle for in que recorre cada elemento de las filas y matriz\n",
        "        max_row = max(range(i, rows), key=lambda x: abs(matrix[x][i])) # Pivote parcial, busca el elemento máximo en la columna i\n",
        "        matrix[i], matrix[max_row] = matrix[max_row], matrix[i] # cambia el pivote parcial de la matriz\n",
        "\n",
        "        if matrix[i][i] == 0: # condicional si la matriz es singular o casi singular\n",
        "            raise ValueError(\"La matriz es singular.\") # mensaje de error\n",
        "\n",
        "        for j in range(i + 1, rows): # bucle for in que recorre las filas\n",
        "            factor = matrix[j][i] / matrix[i][i] # calculo del factor\n",
        "            for k in range(i + 1, cols): # bucle for in que recorre las columnas\n",
        "                matrix[j][k] -= factor * matrix[i][k] # guarda el nuevo valor de la matriz como el negativo del factor por la matriz anteriror\n",
        "            matrix[j][i] = 0 # vuelve el valor de la matriz 0\n",
        "\n",
        "    return matrix # devuelve la matriz\n",
        "\n",
        "\n",
        "matrix = [[1,0,1/(kc+1)],[1,1,c0]] # matriz para el problema del parcial\n",
        "\n",
        "\n",
        "result = gaussian_elimination(matrix) # llama a la funcion\n",
        "for row in result: # bucle que recorre las filas en el resultado\n",
        "    print(row) # imprime las filas de la matriz resultante una por una"
      ]
    }
  ]
}